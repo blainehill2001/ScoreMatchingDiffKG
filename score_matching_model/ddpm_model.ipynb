{
 "cells": [
  {
   "cell_type": "code",
   "execution_count": null,
   "metadata": {},
   "outputs": [],
   "source": []
  },
  {
   "cell_type": "markdown",
   "metadata": {},
   "source": [
    "First we will train a DDPM model using the embedding model so we can get a good approximation of the fisher information matrix. Then, we use the FIM as metric tensor which will represent the distance function\n",
    "\n",
    "distance = sqrt((h - t)^T @ FIM @ (h - t))"
   ]
  },
  {
   "cell_type": "code",
   "execution_count": null,
   "metadata": {},
   "outputs": [],
   "source": [
    "import os.path as osp\n",
    "import torch\n",
    "import onnx\n",
    "from torch_geometric.datasets import FB15k_237\n",
    "from denoising_diffusion_pytorch import GaussianDiffusion, UNet\n",
    "\n",
    "device = 'cuda' if torch.cuda.is_available() else 'cpu'\n"
   ]
  },
  {
   "cell_type": "code",
   "execution_count": null,
   "metadata": {},
   "outputs": [],
   "source": [
    "def build_ddpm_model(dataset_name='FB15k_237', embedding_model_name='RotatE', config=None):\n",
    "    # Load the RotatE embedding model\n",
    "    parent_dir = osp.dirname(osp.abspath(__file__))\n",
    "    embedding_model_path = osp.join(parent_dir, f'{dataset_name}_{embedding_model_name}_embedding_model_weights.onnx')\n",
    "    embedding_model = onnx.load(embedding_model_path)\n",
    "    embedding_model = torch.jit.trace(embedding_model.cpu(), torch.randn(1, 3))\n",
    "\n",
    "    # Set up the noise scheduler\n",
    "    noise_scheduler = GaussianDiffusion(\n",
    "        timesteps=1000,\n",
    "        loss_type='l2'\n",
    "    )\n",
    "\n",
    "    # Set up the U-Net model\n",
    "    unet = UNet(\n",
    "        dim=64,\n",
    "        dim_mults=(1, 2, 4, 8),\n",
    "        channels=3,\n",
    "        with_time_emb=True,\n",
    "    ).to(device)\n",
    "\n",
    "    return embedding_model, noise_scheduler, unet\n",
    "\n",
    "def embed(embedding_model, data):\n",
    "    x = data.x\n",
    "    edge_index = data.edge_index\n",
    "    edge_type = data.edge_attr\n",
    "    return embedding_model(x, edge_index, edge_type)\n",
    "\n",
    "def stein_score(model, embedding_model, data, t):\n",
    "    with torch.no_grad():\n",
    "        x = embed(embedding_model, data).to(device)\n",
    "        noise = torch.randn_like(x)\n",
    "        noisy_x = noise_scheduler.q_sample(x, t, noise)\n",
    "        pred = model(noisy_x, t)\n",
    "        score = torch.autograd.grad(torch.sum(pred**2), noisy_x)[0]\n",
    "    return score\n",
    "\n",
    "def compute_stein_scores(model, embedding_model, data_loader, noise_scheduler):\n",
    "    stein_scores = []\n",
    "    for data in data_loader:\n",
    "        data = data.to(device)\n",
    "        for t in noise_scheduler.sample_timesteps(data.num_nodes):\n",
    "            stein_scores.append(stein_score(model, embedding_model, data, t))\n",
    "    return stein_scores\n",
    "\n",
    "def estimate_fim(stein_scores):\n",
    "    fim = torch.zeros((stein_scores[0].shape[-1], stein_scores[0].shape[-1]), device=device)\n",
    "    for score in stein_scores:\n",
    "        fim += score.T @ score\n",
    "    fim /= len(stein_scores)\n",
    "    return fim\n",
    "\n",
    "def train_ddpm_model(unet, embedding_model, noise_scheduler, train_loader, config):\n",
    "    optimizer = torch.optim.Adam(unet.parameters(), lr=config.lr)\n",
    "\n",
    "    for epoch in range(config.epochs):\n",
    "        unet.train()\n",
    "        for data in train_loader:\n",
    "            data = data.to(device)\n",
    "            x = embed(embedding_model, data)\n",
    "            loss = noise_scheduler.training_losses(unet, x)\n",
    "            optimizer.zero_grad()\n",
    "            loss.backward()\n",
    "            optimizer.step()\n",
    "\n",
    "    return unet\n"
   ]
  },
  {
   "cell_type": "code",
   "execution_count": null,
   "metadata": {},
   "outputs": [],
   "source": [
    "# Configuration\n",
    "config = {\n",
    "    'data_dir': 'data',\n",
    "    'model_dir': 'models',\n",
    "    'batch_size': 32,\n",
    "    'lr': 1e-4,\n",
    "    'epochs': 100\n",
    "}\n",
    "\n",
    "# Load dataset and create data loaders\n",
    "dataset_name = 'FB15k_237'\n",
    "data_path = osp.join(config['data_dir'], dataset_name)\n",
    "\n",
    "train_data = FB15k_237(data_path, split='train')[0].to(device)\n",
    "val_data = FB15k_237(data_path, split='val')[0].to(device)\n",
    "test_data = FB15k_237(data_path, split='test')[0].to(device)\n",
    "\n",
    "train_loader = train_data.loader(batch_size=config['batch_size'], shuffle=True)\n",
    "val_loader = val_data.loader(batch_size=config['batch_size'], shuffle=False)\n",
    "test_loader = test_data.loader(batch_size=config['batch_size'], shuffle=False)\n",
    "\n",
    "# Build the DDPM model\n",
    "embedding_model, noise_scheduler, unet = build_ddpm_model(dataset_name, 'RotatE', config)\n",
    "\n",
    "# Train the DDPM model\n",
    "unet = train_ddpm_model(unet, embedding_model, noise_scheduler, train_loader, val_loader, config)"
   ]
  },
  {
   "cell_type": "code",
   "execution_count": null,
   "metadata": {},
   "outputs": [],
   "source": [
    "# Save the trained DDPM model\n",
    "model_path = osp.join(config['model_dir'], 'ddpm_model.onnx')\n",
    "torch.onnx.export(unet, embed(embedding_model, train_data.to(device)), model_path)"
   ]
  }
 ],
 "metadata": {
  "kernelspec": {
   "display_name": "ScoreMatchingDiffKG",
   "language": "python",
   "name": "python3"
  },
  "language_info": {
   "name": "python",
   "version": "3.9.18"
  }
 },
 "nbformat": 4,
 "nbformat_minor": 2
}
