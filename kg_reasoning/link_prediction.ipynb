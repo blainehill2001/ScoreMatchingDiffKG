{
 "cells": [
  {
   "cell_type": "markdown",
   "metadata": {},
   "source": [
    "Load models in \n",
    "\n",
    "run link prediction using diffusion model as baseline (score matching diffusion)\n",
    "\n",
    "Calculate KG Reasoning metrics for link prediction"
   ]
  },
  {
   "cell_type": "code",
   "execution_count": null,
   "metadata": {
    "vscode": {
     "languageId": "plaintext"
    }
   },
   "outputs": [],
   "source": []
  }
 ],
 "metadata": {
  "language_info": {
   "name": "python"
  }
 },
 "nbformat": 4,
 "nbformat_minor": 2
}
