{
 "cells": [
  {
   "cell_type": "markdown",
   "metadata": {},
   "source": [
    "## Author: Blaine Hill\n",
    "\n",
    "In this notebook, we program out how to embed a KG such as FB15k_237 using RotatE. The weights are saved under embedding_model_weights.pth"
   ]
  },
  {
   "cell_type": "code",
   "execution_count": 15,
   "metadata": {},
   "outputs": [],
   "source": [
    "import os\n",
    "\n",
    "os.environ[\"WANDB_NOTEBOOK_NAME\"] = \"embedding_model.ipynb\"\n",
    "\n",
    "import wandb\n",
    "\n",
    "wandb.login()\n",
    "\n",
    "import torch\n",
    "from torch_geometric.datasets import FB15k_237\n",
    "from torch_geometric.nn import RotatE\n",
    "import torch.optim as optim\n",
    "\n",
    "import sys\n",
    "import os\n",
    "import os.path as osp\n",
    "from ipykernel import get_connection_file\n",
    "\n",
    "from datetime import datetime\n",
    "\n",
    "import yaml\n",
    "from icecream import ic\n",
    "\n",
    "notebook_path = osp.abspath(osp.join(os.getcwd(), osp.basename(get_connection_file())))\n",
    "parent_dir = osp.dirname(osp.dirname(notebook_path))\n",
    "sys.path.append(parent_dir)\n",
    "\n",
    "from utils.tqdm_utils import silence_tqdm"
   ]
  },
  {
   "cell_type": "markdown",
   "metadata": {},
   "source": [
    "Here we decide whether to train the model on specific hyperparameters stored in config or to run a Weights and Biases sweep to locate the best hyperparameters as defined in `sweep_config.yaml`\n",
    "\n",
    "Set `run_sweep=True` to run the sweep and `False` to train the model on the defined config variable."
   ]
  },
  {
   "cell_type": "code",
   "execution_count": 16,
   "metadata": {},
   "outputs": [],
   "source": [
    "run_sweep = False\n",
    "if run_sweep:\n",
    "    with open(\"sweep_config.yaml\", \"r\") as file:\n",
    "        sweep_config = yaml.safe_load(file)\n",
    "else:\n",
    "    config = {\n",
    "        \"epochs\": 500,\n",
    "        \"batch_size\": 1000,\n",
    "        \"lr\": 0.001,\n",
    "        \"weight_decay\": 1e-6,\n",
    "        \"k\": 10,  # used for top-k evaluation\n",
    "        \"hidden_channels\": 50,\n",
    "    }"
   ]
  },
  {
   "cell_type": "code",
   "execution_count": 17,
   "metadata": {},
   "outputs": [],
   "source": [
    "dataset_name = \"FB15k_237\"\n",
    "embedding_model_name = \"RotatE\"\n",
    "\n",
    "device = \"cuda\" if torch.cuda.is_available() else \"cpu\"\n",
    "data_path = osp.join(parent_dir, \"data\", dataset_name)\n",
    "\n",
    "train_data = FB15k_237(data_path, split=\"train\")[0].to(device)\n",
    "val_data = FB15k_237(data_path, split=\"val\")[0].to(device)\n",
    "test_data = FB15k_237(data_path, split=\"test\")[0].to(device)"
   ]
  },
  {
   "cell_type": "code",
   "execution_count": 18,
   "metadata": {},
   "outputs": [],
   "source": [
    "def build_model(config):\n",
    "\n",
    "    model = RotatE(\n",
    "        num_nodes=train_data.num_nodes,\n",
    "        num_relations=train_data.num_edge_types,\n",
    "        hidden_channels=config.hidden_channels,\n",
    "    ).to(device)\n",
    "\n",
    "    train_loader = model.loader(\n",
    "        head_index=train_data.edge_index[0],\n",
    "        rel_type=train_data.edge_type,\n",
    "        tail_index=train_data.edge_index[1],\n",
    "        batch_size=config.batch_size,\n",
    "        shuffle=True,\n",
    "    )\n",
    "    val_loader = model.loader(\n",
    "        head_index=val_data.edge_index[0],\n",
    "        rel_type=val_data.edge_type,\n",
    "        tail_index=val_data.edge_index[1],\n",
    "        batch_size=config.batch_size,\n",
    "        shuffle=True,\n",
    "    )\n",
    "    test_loader = model.loader(\n",
    "        head_index=test_data.edge_index[0],\n",
    "        rel_type=test_data.edge_type,\n",
    "        tail_index=test_data.edge_index[1],\n",
    "        batch_size=config.batch_size,\n",
    "        shuffle=True,\n",
    "    )\n",
    "\n",
    "    optimizer = optim.Adagrad(\n",
    "        model.parameters(), lr=config.lr, weight_decay=config.weight_decay\n",
    "    )\n",
    "\n",
    "    return model, optimizer, train_loader, val_loader, test_loader"
   ]
  },
  {
   "cell_type": "code",
   "execution_count": 19,
   "metadata": {},
   "outputs": [],
   "source": [
    "def corrupt_triples(head_index, rel_type, tail_index, num_entities, num_neg=1):\n",
    "    n = head_index.size(0)\n",
    "    neg_head_index = head_index.expand(num_neg, n).transpose(0, 1).contiguous().view(-1)\n",
    "    neg_tail_index = tail_index.expand(num_neg, n).transpose(0, 1).contiguous().view(-1)\n",
    "    neg_rel_type = rel_type.expand(num_neg, n).transpose(0, 1).contiguous().view(-1)\n",
    "\n",
    "    # Randomly corrupt either head or tail.\n",
    "    selector = torch.rand(n * num_neg) < 0.5\n",
    "    neg_head_index[selector] = torch.randint(\n",
    "        num_entities, size=neg_head_index[selector].size(), dtype=torch.long\n",
    "    )\n",
    "    neg_tail_index[~selector] = torch.randint(\n",
    "        num_entities, size=neg_tail_index[~selector].size(), dtype=torch.long\n",
    "    )\n",
    "\n",
    "    return neg_head_index, neg_rel_type, neg_tail_index\n",
    "\n",
    "\n",
    "def train_model(model, optimizer, train_loader):\n",
    "    model.train()\n",
    "    total_loss = total_examples = 0\n",
    "    for head_index, rel_type, tail_index in train_loader:\n",
    "        optimizer.zero_grad()\n",
    "\n",
    "        # Negative sampling.\n",
    "        neg_head_index, neg_rel_type, neg_tail_index = corrupt_triples(\n",
    "            head_index, rel_type, tail_index, num_entities=train_data.num_nodes, num_neg=1\n",
    "        )\n",
    "\n",
    "        # Positive loss.\n",
    "        loss = model.loss(head_index, rel_type, tail_index)\n",
    "\n",
    "        # Negative loss.\n",
    "        loss += model.loss(neg_head_index, neg_rel_type, neg_tail_index)\n",
    "\n",
    "        loss.backward()\n",
    "        optimizer.step()\n",
    "        # scale on specific number of elements in batch\n",
    "        total_loss += float(loss) * head_index.size(0)\n",
    "        total_examples += 2 * head_index.numel()  # TODO: check if this correct\n",
    "    return total_loss / total_examples\n",
    "\n",
    "\n",
    "@silence_tqdm\n",
    "@torch.no_grad()\n",
    "def test_model(model, config, test_loader):\n",
    "    model.eval()\n",
    "    total_loss = total_examples = 0\n",
    "    for head_index, rel_type, tail_index in test_loader:\n",
    "        loss = model.loss(head_index, rel_type, tail_index)\n",
    "        total_loss += float(loss) * head_index.numel()\n",
    "        total_examples += head_index.numel()\n",
    "\n",
    "    mean_rank, mrr, hits_at_k = model.test(\n",
    "        head_index=head_index,\n",
    "        rel_type=rel_type,\n",
    "        tail_index=tail_index,\n",
    "        batch_size=config.batch_size,\n",
    "        k=config.k,\n",
    "    )\n",
    "\n",
    "    return total_loss / total_examples, mean_rank, mrr, hits_at_k"
   ]
  },
  {
   "cell_type": "code",
   "execution_count": 20,
   "metadata": {},
   "outputs": [],
   "source": [
    "def main(config=None, verbose=False):\n",
    "    with wandb.init(\n",
    "        project=f\"ScoreMatchingDiffKG_Embedding\",\n",
    "        name=f\"{dataset_name}_{embedding_model_name}_embedding_model {datetime.now().strftime('%Y-%m-%d %H:%M:%S')}\",\n",
    "        config=config if config is not None else {},\n",
    "    ):\n",
    "        config = wandb.config\n",
    "        model, optimizer, train_loader, val_loader, test_loader = build_model(config)\n",
    "        wandb.watch(model)\n",
    "        for epoch in range(config.epochs):\n",
    "            loss = train_model(model, optimizer, train_loader)\n",
    "            if verbose:\n",
    "                print(f\"Epoch: {epoch:03d}, Train Loss: {loss:.4f}\")\n",
    "            train_metrics = {\"train_epoch\": epoch, \"train_loss\": loss}\n",
    "            if epoch % 10 == 0 and epoch > 0:\n",
    "                loss, mean_rank, mrr, hits_at_10 = test_model(model, config, val_loader)\n",
    "                if verbose:\n",
    "                    print(\n",
    "                        f\"Val Mean Rank: {mean_rank:.2f}, Val Mean Reciprocal Rank: {mrr:.2f}, Val Hits@10: {hits_at_10:.4f}\"\n",
    "                    )\n",
    "                val_metrics = {\n",
    "                    \"val_loss\": loss,\n",
    "                    \"val_mean_rank\": mean_rank,\n",
    "                    \"val_mrr\": mrr,\n",
    "                    \"val_hits_at_10\": hits_at_10,\n",
    "                }\n",
    "            # log to wandb\n",
    "            wandb.log(\n",
    "                {**train_metrics, **val_metrics}\n",
    "                if \"val_metrics\" in locals()\n",
    "                else {**train_metrics}\n",
    "            )\n",
    "\n",
    "        # once everything is finished, test model\n",
    "        loss, mean_rank, mrr, hits_at_10 = test_model(model, config, test_loader)\n",
    "        if verbose:\n",
    "            print(\n",
    "                f\"Test Mean Rank: {mean_rank:.2f}, Test Mean Reciprocal Rank: {mrr:.2f}, Test Hits@10: {hits_at_10:.4f}\"\n",
    "            )\n",
    "        test_metrics = {\n",
    "            \"test_loss\": loss,\n",
    "            \"test_mean_rank\": mean_rank,\n",
    "            \"test_mrr\": mrr,\n",
    "            \"test_hits_at_10\": hits_at_10,\n",
    "        }\n",
    "        wandb.log({**test_metrics})\n",
    "\n",
    "        # Save the trained model\n",
    "        path = osp.join(\n",
    "            os.getcwd(), f\"{dataset_name}_{embedding_model_name}_embedding_model_weights.pth\"\n",
    "        )\n",
    "        torch.save(model.state_dict(), path)\n",
    "\n",
    "        # Fetch a batch from train_loader\n",
    "        for batch in train_loader:\n",
    "            # Assuming batch contains head_index, rel_type, tail_index, and possibly other data\n",
    "            head_index, rel_type, tail_index = batch\n",
    "            break  # Only need one batch for this purpose\n",
    "\n",
    "        # Use the fetched batch to provide dummy inputs for the export\n",
    "        # Ensure these variables are moved to the same device as model if necessary\n",
    "        torch.onnx.export(\n",
    "            model,\n",
    "            (head_index, rel_type, tail_index),  # Use actual data as dummy inputs\n",
    "            f\"{dataset_name}_{embedding_model_name}_embedding_model_weights.onnx\",\n",
    "            opset_version=11,\n",
    "            do_constant_folding=True,\n",
    "            input_names=[\n",
    "                \"head_index\",\n",
    "                \"rel_type\",\n",
    "                \"tail_index\",\n",
    "            ],  # Adjust input names as needed\n",
    "            dynamic_axes={\n",
    "                \"head_index\": {0: \"batch_size\"},\n",
    "                \"rel_type\": {0: \"batch_size\"},\n",
    "                \"tail_index\": {0: \"batch_size\"},\n",
    "            },\n",
    "        )\n",
    "        wandb.save(f\"{dataset_name}_{embedding_model_name}_embedding_model_weights.onnx\")\n",
    "\n",
    "        return model"
   ]
  },
  {
   "cell_type": "code",
   "execution_count": 21,
   "metadata": {},
   "outputs": [
    {
     "data": {
      "text/html": [
       "wandb version 0.16.4 is available!  To upgrade, please run:\n",
       " $ pip install wandb --upgrade"
      ],
      "text/plain": [
       "<IPython.core.display.HTML object>"
      ]
     },
     "metadata": {},
     "output_type": "display_data"
    },
    {
     "data": {
      "text/html": [
       "Tracking run with wandb version 0.16.3"
      ],
      "text/plain": [
       "<IPython.core.display.HTML object>"
      ]
     },
     "metadata": {},
     "output_type": "display_data"
    },
    {
     "data": {
      "text/html": [
       "Run data is saved locally in <code>/home/blaineh2/ScoreMatchingDiffKG/embedding_model/wandb/run-20240320_235145-6xqcj0zr</code>"
      ],
      "text/plain": [
       "<IPython.core.display.HTML object>"
      ]
     },
     "metadata": {},
     "output_type": "display_data"
    },
    {
     "data": {
      "text/html": [
       "Syncing run <strong><a href='https://wandb.ai/bthill1/ScoreMatchingDiffKG_Embedding/runs/6xqcj0zr' target=\"_blank\">FB15k_237_RotatE_embedding_model 2024-03-20 23:51:45</a></strong> to <a href='https://wandb.ai/bthill1/ScoreMatchingDiffKG_Embedding' target=\"_blank\">Weights & Biases</a> (<a href='https://wandb.me/run' target=\"_blank\">docs</a>)<br/>"
      ],
      "text/plain": [
       "<IPython.core.display.HTML object>"
      ]
     },
     "metadata": {},
     "output_type": "display_data"
    },
    {
     "data": {
      "text/html": [
       " View project at <a href='https://wandb.ai/bthill1/ScoreMatchingDiffKG_Embedding' target=\"_blank\">https://wandb.ai/bthill1/ScoreMatchingDiffKG_Embedding</a>"
      ],
      "text/plain": [
       "<IPython.core.display.HTML object>"
      ]
     },
     "metadata": {},
     "output_type": "display_data"
    },
    {
     "data": {
      "text/html": [
       " View run at <a href='https://wandb.ai/bthill1/ScoreMatchingDiffKG_Embedding/runs/6xqcj0zr' target=\"_blank\">https://wandb.ai/bthill1/ScoreMatchingDiffKG_Embedding/runs/6xqcj0zr</a>"
      ],
      "text/plain": [
       "<IPython.core.display.HTML object>"
      ]
     },
     "metadata": {},
     "output_type": "display_data"
    },
    {
     "name": "stdout",
     "output_type": "stream",
     "text": [
      "Epoch: 000, Train Loss: 0.7735\n",
      "Epoch: 001, Train Loss: 0.7657\n",
      "Epoch: 002, Train Loss: 0.7609\n",
      "Epoch: 003, Train Loss: 0.7572\n",
      "Epoch: 004, Train Loss: 0.7541\n",
      "Epoch: 005, Train Loss: 0.7515\n"
     ]
    }
   ],
   "source": [
    "if run_sweep:\n",
    "\n",
    "    with open(\"sweep_config.yaml\", \"r\") as file:\n",
    "        sweep_config = yaml.safe_load(file)\n",
    "\n",
    "    sweep_id = wandb.sweep(project=f\"ScoreMatchingDiffKG_Embedding_Sweep\", sweep=sweep_config)\n",
    "\n",
    "    wandb.agent(sweep_id, function=main)\n",
    "else:\n",
    "    model = main(config, verbose=True)"
   ]
  }
 ],
 "metadata": {
  "kernelspec": {
   "display_name": "ScoreMatchingDiffKG",
   "language": "python",
   "name": "python3"
  },
  "language_info": {
   "codemirror_mode": {
    "name": "ipython",
    "version": 3
   },
   "file_extension": ".py",
   "mimetype": "text/x-python",
   "name": "python",
   "nbconvert_exporter": "python",
   "pygments_lexer": "ipython3",
   "version": "3.9.18"
  }
 },
 "nbformat": 4,
 "nbformat_minor": 2
}
