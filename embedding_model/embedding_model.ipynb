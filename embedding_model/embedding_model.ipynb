{
 "cells": [
  {
   "cell_type": "markdown",
   "metadata": {},
   "source": [
    "## Author: Blaine Hill\n",
    "\n",
    "In this notebook, we program out how to embed a KG such as FB15k_237 using RotatE. The weights are saved under embedding_model_weights.pth"
   ]
  },
  {
   "cell_type": "code",
   "execution_count": 1,
   "metadata": {},
   "outputs": [
    {
     "name": "stderr",
     "output_type": "stream",
     "text": [
      "\u001b[34m\u001b[1mwandb\u001b[0m: Currently logged in as: \u001b[33mbthill1\u001b[0m. Use \u001b[1m`wandb login --relogin`\u001b[0m to force relogin\n"
     ]
    }
   ],
   "source": [
    "import os\n",
    "\n",
    "os.environ[\"WANDB_NOTEBOOK_NAME\"] = \"embedding_model.ipynb\"\n",
    "\n",
    "import wandb\n",
    "\n",
    "wandb.login()\n",
    "\n",
    "import torch\n",
    "from torch_geometric.datasets import FB15k_237\n",
    "from torch_geometric.nn import RotatE\n",
    "import torch.optim as optim\n",
    "\n",
    "import sys\n",
    "import os\n",
    "import os.path as osp\n",
    "from ipykernel import get_connection_file\n",
    "\n",
    "from datetime import datetime\n",
    "\n",
    "import yaml\n",
    "from icecream import ic\n",
    "\n",
    "notebook_path = osp.abspath(osp.join(os.getcwd(), osp.basename(get_connection_file())))\n",
    "parent_dir = osp.dirname(osp.dirname(notebook_path))\n",
    "sys.path.append(parent_dir)\n",
    "\n",
    "from utils.tqdm_utils import silence_tqdm"
   ]
  },
  {
   "cell_type": "markdown",
   "metadata": {},
   "source": [
    "Here we decide whether to train the model on specific hyperparameters stored in config or to run a Weights and Biases sweep to locate the best hyperparameters as defined in `sweep_config.yaml`\n",
    "\n",
    "Set `run_sweep=True` to run the sweep and `False` to train the model on the defined config variable."
   ]
  },
  {
   "cell_type": "code",
   "execution_count": 2,
   "metadata": {},
   "outputs": [],
   "source": [
    "run_sweep = True\n",
    "if run_sweep:\n",
    "    with open(\"sweep_config.yaml\", \"r\") as file:\n",
    "        sweep_config = yaml.safe_load(file)\n",
    "else:\n",
    "    config = {\n",
    "        \"epochs\": 500,\n",
    "        \"batch_size\": 1000,\n",
    "        \"lr\": 0.001,\n",
    "        \"weight_decay\": 1e-6,\n",
    "        \"k\": 10,  # used for top-k evaluation\n",
    "        \"hidden_channels\": 50,\n",
    "    }"
   ]
  },
  {
   "cell_type": "code",
   "execution_count": 3,
   "metadata": {},
   "outputs": [
    {
     "name": "stderr",
     "output_type": "stream",
     "text": [
      "/home/blaineh2/anaconda3/envs/ScoreMatchingDiffKG/lib/python3.9/site-packages/torch/cuda/__init__.py:141: UserWarning: CUDA initialization: The NVIDIA driver on your system is too old (found version 11040). Please update your GPU driver by downloading and installing a new version from the URL: http://www.nvidia.com/Download/index.aspx Alternatively, go to: https://pytorch.org to install a PyTorch version that has been compiled with your version of the CUDA driver. (Triggered internally at ../c10/cuda/CUDAFunctions.cpp:108.)\n",
      "  return torch._C._cuda_getDeviceCount() > 0\n"
     ]
    }
   ],
   "source": [
    "dataset_name = \"FB15k_237\"\n",
    "embedding_model_name = \"RotatE\"\n",
    "\n",
    "device = \"cuda\" if torch.cuda.is_available() else \"cpu\"\n",
    "data_path = osp.join(parent_dir, \"data\", dataset_name)\n",
    "\n",
    "train_data = FB15k_237(data_path, split=\"train\")[0].to(device)\n",
    "val_data = FB15k_237(data_path, split=\"val\")[0].to(device)\n",
    "test_data = FB15k_237(data_path, split=\"test\")[0].to(device)"
   ]
  },
  {
   "cell_type": "code",
   "execution_count": 4,
   "metadata": {},
   "outputs": [],
   "source": [
    "def build_model(config):\n",
    "\n",
    "    model = RotatE(\n",
    "        num_nodes=train_data.num_nodes,\n",
    "        num_relations=train_data.num_edge_types,\n",
    "        hidden_channels=config.hidden_channels,\n",
    "    ).to(device)\n",
    "\n",
    "    train_loader = model.loader(\n",
    "        head_index=train_data.edge_index[0],\n",
    "        rel_type=train_data.edge_type,\n",
    "        tail_index=train_data.edge_index[1],\n",
    "        batch_size=config.batch_size,\n",
    "        shuffle=True,\n",
    "    )\n",
    "    val_loader = model.loader(\n",
    "        head_index=val_data.edge_index[0],\n",
    "        rel_type=val_data.edge_type,\n",
    "        tail_index=val_data.edge_index[1],\n",
    "        batch_size=config.batch_size,\n",
    "        shuffle=True,\n",
    "    )\n",
    "    test_loader = model.loader(\n",
    "        head_index=test_data.edge_index[0],\n",
    "        rel_type=test_data.edge_type,\n",
    "        tail_index=test_data.edge_index[1],\n",
    "        batch_size=config.batch_size,\n",
    "        shuffle=True,\n",
    "    )\n",
    "\n",
    "    optimizer = optim.Adagrad(\n",
    "        model.parameters(), lr=config.lr, weight_decay=config.weight_decay\n",
    "    )\n",
    "\n",
    "    return model, optimizer, train_loader, val_loader, test_loader"
   ]
  },
  {
   "cell_type": "code",
   "execution_count": 5,
   "metadata": {},
   "outputs": [],
   "source": [
    "def corrupt_triples(head_index, rel_type, tail_index, num_entities, num_neg=1):\n",
    "    n = head_index.size(0)\n",
    "    neg_head_index = head_index.expand(num_neg, n).transpose(0, 1).contiguous().view(-1)\n",
    "    neg_tail_index = tail_index.expand(num_neg, n).transpose(0, 1).contiguous().view(-1)\n",
    "    neg_rel_type = rel_type.expand(num_neg, n).transpose(0, 1).contiguous().view(-1)\n",
    "\n",
    "    # Randomly corrupt either head or tail.\n",
    "    selector = torch.rand(n * num_neg) < 0.5\n",
    "    neg_head_index[selector] = torch.randint(\n",
    "        num_entities, size=neg_head_index[selector].size(), dtype=torch.long\n",
    "    )\n",
    "    neg_tail_index[~selector] = torch.randint(\n",
    "        num_entities, size=neg_tail_index[~selector].size(), dtype=torch.long\n",
    "    )\n",
    "\n",
    "    return neg_head_index, neg_rel_type, neg_tail_index\n",
    "\n",
    "\n",
    "def train_model(model, optimizer, train_loader):\n",
    "    model.train()\n",
    "    total_loss = total_examples = 0\n",
    "    for head_index, rel_type, tail_index in train_loader:\n",
    "        optimizer.zero_grad()\n",
    "\n",
    "        # Negative sampling.\n",
    "        neg_head_index, neg_rel_type, neg_tail_index = corrupt_triples(\n",
    "            head_index, rel_type, tail_index, num_entities=train_data.num_nodes, num_neg=1\n",
    "        )\n",
    "\n",
    "        # Positive loss.\n",
    "        loss = model.loss(head_index, rel_type, tail_index)\n",
    "\n",
    "        # Negative loss.\n",
    "        loss += model.loss(neg_head_index, neg_rel_type, neg_tail_index)\n",
    "\n",
    "        loss.backward()\n",
    "        optimizer.step()\n",
    "        # scale on specific number of elements in batch\n",
    "        total_loss += float(loss) * head_index.size(0)\n",
    "        total_examples += 2 * head_index.numel()  # TODO: check if this correct\n",
    "    return total_loss / total_examples\n",
    "\n",
    "\n",
    "@silence_tqdm\n",
    "@torch.no_grad()\n",
    "def test_model(model, config, test_loader):\n",
    "    model.eval()\n",
    "    total_loss = total_examples = 0\n",
    "    for head_index, rel_type, tail_index in test_loader:\n",
    "        loss = model.loss(head_index, rel_type, tail_index)\n",
    "        total_loss += float(loss) * head_index.numel()\n",
    "        total_examples += head_index.numel()\n",
    "\n",
    "    mean_rank, mrr, hits_at_k = model.test(\n",
    "        head_index=head_index,\n",
    "        rel_type=rel_type,\n",
    "        tail_index=tail_index,\n",
    "        batch_size=config.batch_size,\n",
    "        k=config.k,\n",
    "    )\n",
    "\n",
    "    return total_loss / total_examples, mean_rank, mrr, hits_at_k"
   ]
  },
  {
   "cell_type": "code",
   "execution_count": 6,
   "metadata": {},
   "outputs": [],
   "source": [
    "def main(config=None, verbose=False):\n",
    "    with wandb.init(\n",
    "        project=f\"ScoreMatchingDiffKG_Embedding\",\n",
    "        name=f\"{dataset_name}_{embedding_model_name}_embedding_model {datetime.now().strftime('%Y-%m-%d %H:%M:%S')}\",\n",
    "        config=config if config is not None else {},\n",
    "    ):\n",
    "        config = wandb.config\n",
    "        model, optimizer, train_loader, val_loader, test_loader = build_model(config)\n",
    "        wandb.watch(model)\n",
    "        for epoch in range(config.epochs):\n",
    "            loss = train_model(model, optimizer, train_loader)\n",
    "            if verbose:\n",
    "                print(f\"Epoch: {epoch:03d}, Train Loss: {loss:.4f}\")\n",
    "            train_metrics = {\"train_epoch\": epoch, \"train_loss\": loss}\n",
    "            if epoch % 10 == 0 and epoch > 0:\n",
    "                loss, mean_rank, mrr, hits_at_10 = test_model(model, config, val_loader)\n",
    "                if verbose:\n",
    "                    print(\n",
    "                        f\"Val Mean Rank: {mean_rank:.2f}, Val Mean Reciprocal Rank: {mrr:.2f}, Val Hits@10: {hits_at_10:.4f}\"\n",
    "                    )\n",
    "                val_metrics = {\n",
    "                    \"val_loss\": loss,\n",
    "                    \"val_mean_rank\": mean_rank,\n",
    "                    \"val_mrr\": mrr,\n",
    "                    \"val_hits_at_10\": hits_at_10,\n",
    "                }\n",
    "            # log to wandb\n",
    "            wandb.log(\n",
    "                {**train_metrics, **val_metrics}\n",
    "                if \"val_metrics\" in locals()\n",
    "                else {**train_metrics}\n",
    "            )\n",
    "\n",
    "        # once everything is finished, test model\n",
    "        loss, mean_rank, mrr, hits_at_10 = test_model(model, config, test_loader)\n",
    "        if verbose:\n",
    "            print(\n",
    "                f\"Test Mean Rank: {mean_rank:.2f}, Test Mean Reciprocal Rank: {mrr:.2f}, Test Hits@10: {hits_at_10:.4f}\"\n",
    "            )\n",
    "        test_metrics = {\n",
    "            \"test_loss\": loss,\n",
    "            \"test_mean_rank\": mean_rank,\n",
    "            \"test_mrr\": mrr,\n",
    "            \"test_hits_at_10\": hits_at_10,\n",
    "        }\n",
    "        wandb.log({**test_metrics})\n",
    "\n",
    "        # Save the trained model\n",
    "        path = osp.join(\n",
    "            os.getcwd(), f\"{dataset_name}_{embedding_model_name}_embedding_model_weights.pth\"\n",
    "        )\n",
    "        torch.save(model.state_dict(), path)\n",
    "\n",
    "        # Fetch a batch from train_loader\n",
    "        for batch in train_loader:\n",
    "            # Assuming batch contains head_index, rel_type, tail_index, and possibly other data\n",
    "            head_index, rel_type, tail_index = batch\n",
    "            break  # Only need one batch for this purpose\n",
    "\n",
    "        # Use the fetched batch to provide dummy inputs for the export\n",
    "        # Ensure these variables are moved to the same device as model if necessary\n",
    "        torch.onnx.export(\n",
    "            model,\n",
    "            (head_index, rel_type, tail_index),  # Use actual data as dummy inputs\n",
    "            f\"{dataset_name}_{embedding_model_name}_embedding_model_weights.onnx\",\n",
    "            opset_version=11,\n",
    "            do_constant_folding=True,\n",
    "            input_names=[\n",
    "                \"head_index\",\n",
    "                \"rel_type\",\n",
    "                \"tail_index\",\n",
    "            ],  # Adjust input names as needed\n",
    "            dynamic_axes={\n",
    "                \"head_index\": {0: \"batch_size\"},\n",
    "                \"rel_type\": {0: \"batch_size\"},\n",
    "                \"tail_index\": {0: \"batch_size\"},\n",
    "            },\n",
    "        )\n",
    "        wandb.save(f\"{dataset_name}_{embedding_model_name}_embedding_model_weights.onnx\")\n",
    "\n",
    "        return model"
   ]
  },
  {
   "cell_type": "code",
   "execution_count": 7,
   "metadata": {},
   "outputs": [
    {
     "data": {
      "text/html": [
       "wandb version 0.16.6 is available!  To upgrade, please run:\n",
       " $ pip install wandb --upgrade"
      ],
      "text/plain": [
       "<IPython.core.display.HTML object>"
      ]
     },
     "metadata": {},
     "output_type": "display_data"
    },
    {
     "data": {
      "text/html": [
       "Tracking run with wandb version 0.16.3"
      ],
      "text/plain": [
       "<IPython.core.display.HTML object>"
      ]
     },
     "metadata": {},
     "output_type": "display_data"
    },
    {
     "data": {
      "text/html": [
       "Run data is saved locally in <code>/home/blaineh2/ScoreMatchingDiffKG/embedding_model/wandb/run-20240403_171434-7ddg43sr</code>"
      ],
      "text/plain": [
       "<IPython.core.display.HTML object>"
      ]
     },
     "metadata": {},
     "output_type": "display_data"
    },
    {
     "data": {
      "text/html": [
       "Syncing run <strong><a href='https://wandb.ai/bthill1/ScoreMatchingDiffKG_Embedding/runs/7ddg43sr' target=\"_blank\">FB15k_237_RotatE_embedding_model 2024-04-03 17:14:34</a></strong> to <a href='https://wandb.ai/bthill1/ScoreMatchingDiffKG_Embedding' target=\"_blank\">Weights & Biases</a> (<a href='https://wandb.me/run' target=\"_blank\">docs</a>)<br/>"
      ],
      "text/plain": [
       "<IPython.core.display.HTML object>"
      ]
     },
     "metadata": {},
     "output_type": "display_data"
    },
    {
     "data": {
      "text/html": [
       " View project at <a href='https://wandb.ai/bthill1/ScoreMatchingDiffKG_Embedding' target=\"_blank\">https://wandb.ai/bthill1/ScoreMatchingDiffKG_Embedding</a>"
      ],
      "text/plain": [
       "<IPython.core.display.HTML object>"
      ]
     },
     "metadata": {},
     "output_type": "display_data"
    },
    {
     "data": {
      "text/html": [
       " View run at <a href='https://wandb.ai/bthill1/ScoreMatchingDiffKG_Embedding/runs/7ddg43sr' target=\"_blank\">https://wandb.ai/bthill1/ScoreMatchingDiffKG_Embedding/runs/7ddg43sr</a>"
      ],
      "text/plain": [
       "<IPython.core.display.HTML object>"
      ]
     },
     "metadata": {},
     "output_type": "display_data"
    },
    {
     "name": "stdout",
     "output_type": "stream",
     "text": [
      "Epoch: 000, Train Loss: 0.7735\n",
      "Epoch: 001, Train Loss: 0.7657\n",
      "Epoch: 002, Train Loss: 0.7609\n",
      "Epoch: 003, Train Loss: 0.7573\n",
      "Epoch: 004, Train Loss: 0.7542\n",
      "Epoch: 005, Train Loss: 0.7515\n",
      "Epoch: 006, Train Loss: 0.7492\n",
      "Epoch: 007, Train Loss: 0.7471\n",
      "Epoch: 008, Train Loss: 0.7452\n",
      "Epoch: 009, Train Loss: 0.7435\n",
      "Epoch: 010, Train Loss: 0.7418\n"
     ]
    },
    {
     "name": "stderr",
     "output_type": "stream",
     "text": [
      "100%|██████████| 535/535 [00:06<00:00, 83.58it/s]\n"
     ]
    },
    {
     "name": "stdout",
     "output_type": "stream",
     "text": [
      "Val Mean Rank: 4477.03, Val Mean Reciprocal Rank: 0.00, Val Hits@10: 0.0037\n",
      "Epoch: 011, Train Loss: 0.7403\n",
      "Epoch: 012, Train Loss: 0.7388\n",
      "Epoch: 013, Train Loss: 0.7375\n",
      "Epoch: 014, Train Loss: 0.7363\n",
      "Epoch: 015, Train Loss: 0.7351\n",
      "Epoch: 016, Train Loss: 0.7339\n",
      "Epoch: 017, Train Loss: 0.7329\n",
      "Epoch: 018, Train Loss: 0.7319\n",
      "Epoch: 019, Train Loss: 0.7309\n",
      "Epoch: 020, Train Loss: 0.7299\n"
     ]
    },
    {
     "name": "stderr",
     "output_type": "stream",
     "text": [
      "100%|██████████| 535/535 [00:06<00:00, 85.22it/s]\n"
     ]
    },
    {
     "name": "stdout",
     "output_type": "stream",
     "text": [
      "Val Mean Rank: 3795.44, Val Mean Reciprocal Rank: 0.01, Val Hits@10: 0.0131\n",
      "Epoch: 021, Train Loss: 0.7290\n",
      "Epoch: 022, Train Loss: 0.7281\n",
      "Epoch: 023, Train Loss: 0.7274\n",
      "Epoch: 024, Train Loss: 0.7265\n",
      "Epoch: 025, Train Loss: 0.7258\n",
      "Epoch: 026, Train Loss: 0.7250\n",
      "Epoch: 027, Train Loss: 0.7243\n",
      "Epoch: 028, Train Loss: 0.7236\n",
      "Epoch: 029, Train Loss: 0.7229\n",
      "Epoch: 030, Train Loss: 0.7223\n"
     ]
    },
    {
     "name": "stderr",
     "output_type": "stream",
     "text": [
      "100%|██████████| 535/535 [00:06<00:00, 84.98it/s]\n"
     ]
    },
    {
     "name": "stdout",
     "output_type": "stream",
     "text": [
      "Val Mean Rank: 3646.81, Val Mean Reciprocal Rank: 0.02, Val Hits@10: 0.0262\n",
      "Epoch: 031, Train Loss: 0.7216\n",
      "Epoch: 032, Train Loss: 0.7210\n",
      "Epoch: 033, Train Loss: 0.7204\n",
      "Epoch: 034, Train Loss: 0.7198\n",
      "Epoch: 035, Train Loss: 0.7193\n",
      "Epoch: 036, Train Loss: 0.7187\n",
      "Epoch: 037, Train Loss: 0.7182\n",
      "Epoch: 038, Train Loss: 0.7176\n",
      "Epoch: 039, Train Loss: 0.7172\n",
      "Epoch: 040, Train Loss: 0.7167\n"
     ]
    },
    {
     "name": "stderr",
     "output_type": "stream",
     "text": [
      "100%|██████████| 535/535 [00:06<00:00, 85.60it/s]\n"
     ]
    },
    {
     "name": "stdout",
     "output_type": "stream",
     "text": [
      "Val Mean Rank: 3484.97, Val Mean Reciprocal Rank: 0.03, Val Hits@10: 0.0579\n",
      "Epoch: 041, Train Loss: 0.7162\n",
      "Epoch: 042, Train Loss: 0.7157\n",
      "Epoch: 043, Train Loss: 0.7153\n",
      "Epoch: 044, Train Loss: 0.7148\n",
      "Epoch: 045, Train Loss: 0.7144\n",
      "Epoch: 046, Train Loss: 0.7140\n",
      "Epoch: 047, Train Loss: 0.7135\n",
      "Epoch: 048, Train Loss: 0.7132\n",
      "Epoch: 049, Train Loss: 0.7127\n",
      "Epoch: 050, Train Loss: 0.7123\n"
     ]
    },
    {
     "name": "stderr",
     "output_type": "stream",
     "text": [
      "100%|██████████| 535/535 [00:06<00:00, 82.44it/s]\n"
     ]
    },
    {
     "name": "stdout",
     "output_type": "stream",
     "text": [
      "Val Mean Rank: 3517.54, Val Mean Reciprocal Rank: 0.02, Val Hits@10: 0.0486\n",
      "Epoch: 051, Train Loss: 0.7119\n",
      "Epoch: 052, Train Loss: 0.7116\n",
      "Epoch: 053, Train Loss: 0.7113\n",
      "Epoch: 054, Train Loss: 0.7108\n",
      "Epoch: 055, Train Loss: 0.7105\n",
      "Epoch: 056, Train Loss: 0.7102\n",
      "Epoch: 057, Train Loss: 0.7098\n",
      "Epoch: 058, Train Loss: 0.7095\n",
      "Epoch: 059, Train Loss: 0.7092\n",
      "Epoch: 060, Train Loss: 0.7088\n"
     ]
    },
    {
     "name": "stderr",
     "output_type": "stream",
     "text": [
      "100%|██████████| 535/535 [00:07<00:00, 70.70it/s]\n"
     ]
    },
    {
     "name": "stdout",
     "output_type": "stream",
     "text": [
      "Val Mean Rank: 3322.27, Val Mean Reciprocal Rank: 0.02, Val Hits@10: 0.0598\n",
      "Epoch: 061, Train Loss: 0.7085\n",
      "Epoch: 062, Train Loss: 0.7082\n",
      "Epoch: 063, Train Loss: 0.7079\n",
      "Epoch: 064, Train Loss: 0.7077\n",
      "Epoch: 065, Train Loss: 0.7073\n",
      "Epoch: 066, Train Loss: 0.7071\n",
      "Epoch: 067, Train Loss: 0.7068\n",
      "Epoch: 068, Train Loss: 0.7065\n",
      "Epoch: 069, Train Loss: 0.7063\n",
      "Epoch: 070, Train Loss: 0.7059\n"
     ]
    },
    {
     "name": "stderr",
     "output_type": "stream",
     "text": [
      "100%|██████████| 535/535 [00:06<00:00, 86.11it/s]\n"
     ]
    },
    {
     "name": "stdout",
     "output_type": "stream",
     "text": [
      "Val Mean Rank: 3274.69, Val Mean Reciprocal Rank: 0.02, Val Hits@10: 0.0654\n",
      "Epoch: 071, Train Loss: 0.7057\n",
      "Epoch: 072, Train Loss: 0.7055\n",
      "Epoch: 073, Train Loss: 0.7052\n",
      "Epoch: 074, Train Loss: 0.7050\n",
      "Epoch: 075, Train Loss: 0.7048\n",
      "Epoch: 076, Train Loss: 0.7045\n",
      "Epoch: 077, Train Loss: 0.7041\n",
      "Epoch: 078, Train Loss: 0.7040\n",
      "Epoch: 079, Train Loss: 0.7038\n",
      "Epoch: 080, Train Loss: 0.7035\n"
     ]
    },
    {
     "name": "stderr",
     "output_type": "stream",
     "text": [
      "100%|██████████| 535/535 [00:06<00:00, 86.28it/s]\n"
     ]
    },
    {
     "name": "stdout",
     "output_type": "stream",
     "text": [
      "Val Mean Rank: 3125.43, Val Mean Reciprocal Rank: 0.03, Val Hits@10: 0.0673\n",
      "Epoch: 081, Train Loss: 0.7033\n",
      "Epoch: 082, Train Loss: 0.7031\n",
      "Epoch: 083, Train Loss: 0.7029\n",
      "Epoch: 084, Train Loss: 0.7026\n",
      "Epoch: 085, Train Loss: 0.7024\n",
      "Epoch: 086, Train Loss: 0.7023\n",
      "Epoch: 087, Train Loss: 0.7020\n",
      "Epoch: 088, Train Loss: 0.7018\n",
      "Epoch: 089, Train Loss: 0.7017\n",
      "Epoch: 090, Train Loss: 0.7015\n"
     ]
    },
    {
     "name": "stderr",
     "output_type": "stream",
     "text": [
      "100%|██████████| 535/535 [00:07<00:00, 75.03it/s]\n"
     ]
    },
    {
     "name": "stdout",
     "output_type": "stream",
     "text": [
      "Val Mean Rank: 3108.90, Val Mean Reciprocal Rank: 0.02, Val Hits@10: 0.0542\n",
      "Epoch: 091, Train Loss: 0.7012\n",
      "Epoch: 092, Train Loss: 0.7010\n",
      "Epoch: 093, Train Loss: 0.7008\n",
      "Epoch: 094, Train Loss: 0.7007\n",
      "Epoch: 095, Train Loss: 0.7005\n",
      "Epoch: 096, Train Loss: 0.7003\n",
      "Epoch: 097, Train Loss: 0.7002\n",
      "Epoch: 098, Train Loss: 0.7000\n",
      "Epoch: 099, Train Loss: 0.6998\n",
      "Epoch: 100, Train Loss: 0.6996\n"
     ]
    },
    {
     "name": "stderr",
     "output_type": "stream",
     "text": [
      "100%|██████████| 535/535 [00:06<00:00, 83.05it/s]\n"
     ]
    },
    {
     "name": "stdout",
     "output_type": "stream",
     "text": [
      "Val Mean Rank: 3159.14, Val Mean Reciprocal Rank: 0.02, Val Hits@10: 0.0654\n",
      "Epoch: 101, Train Loss: 0.6995\n",
      "Epoch: 102, Train Loss: 0.6993\n",
      "Epoch: 103, Train Loss: 0.6991\n",
      "Epoch: 104, Train Loss: 0.6991\n",
      "Epoch: 105, Train Loss: 0.6989\n",
      "Epoch: 106, Train Loss: 0.6987\n",
      "Epoch: 107, Train Loss: 0.6986\n",
      "Epoch: 108, Train Loss: 0.6984\n",
      "Epoch: 109, Train Loss: 0.6983\n",
      "Epoch: 110, Train Loss: 0.6980\n"
     ]
    },
    {
     "name": "stderr",
     "output_type": "stream",
     "text": [
      "100%|██████████| 535/535 [00:06<00:00, 83.48it/s]\n"
     ]
    },
    {
     "name": "stdout",
     "output_type": "stream",
     "text": [
      "Val Mean Rank: 3031.08, Val Mean Reciprocal Rank: 0.02, Val Hits@10: 0.0561\n",
      "Epoch: 111, Train Loss: 0.6980\n",
      "Epoch: 112, Train Loss: 0.6978\n",
      "Epoch: 113, Train Loss: 0.6976\n",
      "Epoch: 114, Train Loss: 0.6975\n",
      "Epoch: 115, Train Loss: 0.6974\n",
      "Epoch: 116, Train Loss: 0.6972\n",
      "Epoch: 117, Train Loss: 0.6971\n",
      "Epoch: 118, Train Loss: 0.6969\n",
      "Epoch: 119, Train Loss: 0.6969\n",
      "Epoch: 120, Train Loss: 0.6967\n"
     ]
    },
    {
     "name": "stderr",
     "output_type": "stream",
     "text": [
      "100%|██████████| 535/535 [00:06<00:00, 85.21it/s]\n"
     ]
    },
    {
     "name": "stdout",
     "output_type": "stream",
     "text": [
      "Val Mean Rank: 2959.54, Val Mean Reciprocal Rank: 0.03, Val Hits@10: 0.0692\n",
      "Epoch: 121, Train Loss: 0.6967\n",
      "Epoch: 122, Train Loss: 0.6965\n",
      "Epoch: 123, Train Loss: 0.6964\n",
      "Epoch: 124, Train Loss: 0.6961\n",
      "Epoch: 125, Train Loss: 0.6962\n",
      "Epoch: 126, Train Loss: 0.6960\n",
      "Epoch: 127, Train Loss: 0.6959\n",
      "Epoch: 128, Train Loss: 0.6957\n",
      "Epoch: 129, Train Loss: 0.6957\n",
      "Epoch: 130, Train Loss: 0.6955\n"
     ]
    },
    {
     "name": "stderr",
     "output_type": "stream",
     "text": [
      "100%|██████████| 535/535 [00:06<00:00, 85.54it/s]\n"
     ]
    },
    {
     "name": "stdout",
     "output_type": "stream",
     "text": [
      "Val Mean Rank: 3322.24, Val Mean Reciprocal Rank: 0.02, Val Hits@10: 0.0411\n",
      "Epoch: 131, Train Loss: 0.6954\n",
      "Epoch: 132, Train Loss: 0.6953\n",
      "Epoch: 133, Train Loss: 0.6952\n",
      "Epoch: 134, Train Loss: 0.6950\n",
      "Epoch: 135, Train Loss: 0.6949\n",
      "Epoch: 136, Train Loss: 0.6949\n",
      "Epoch: 137, Train Loss: 0.6947\n",
      "Epoch: 138, Train Loss: 0.6946\n",
      "Epoch: 139, Train Loss: 0.6945\n",
      "Epoch: 140, Train Loss: 0.6944\n"
     ]
    },
    {
     "name": "stderr",
     "output_type": "stream",
     "text": [
      "100%|██████████| 535/535 [00:06<00:00, 84.72it/s]\n"
     ]
    },
    {
     "name": "stdout",
     "output_type": "stream",
     "text": [
      "Val Mean Rank: 2894.76, Val Mean Reciprocal Rank: 0.02, Val Hits@10: 0.0579\n",
      "Epoch: 141, Train Loss: 0.6944\n",
      "Epoch: 142, Train Loss: 0.6943\n",
      "Epoch: 143, Train Loss: 0.6941\n",
      "Epoch: 144, Train Loss: 0.6940\n",
      "Epoch: 145, Train Loss: 0.6939\n",
      "Epoch: 146, Train Loss: 0.6938\n",
      "Epoch: 147, Train Loss: 0.6937\n",
      "Epoch: 148, Train Loss: 0.6936\n",
      "Epoch: 149, Train Loss: 0.6936\n",
      "Epoch: 150, Train Loss: 0.6935\n"
     ]
    },
    {
     "name": "stderr",
     "output_type": "stream",
     "text": [
      "100%|██████████| 535/535 [00:07<00:00, 74.30it/s]\n"
     ]
    },
    {
     "name": "stdout",
     "output_type": "stream",
     "text": [
      "Val Mean Rank: 2935.28, Val Mean Reciprocal Rank: 0.02, Val Hits@10: 0.0355\n",
      "Epoch: 151, Train Loss: 0.6935\n",
      "Epoch: 152, Train Loss: 0.6932\n",
      "Epoch: 153, Train Loss: 0.6931\n",
      "Epoch: 154, Train Loss: 0.6930\n",
      "Epoch: 155, Train Loss: 0.6931\n",
      "Epoch: 156, Train Loss: 0.6929\n",
      "Epoch: 157, Train Loss: 0.6928\n",
      "Epoch: 158, Train Loss: 0.6927\n",
      "Epoch: 159, Train Loss: 0.6927\n",
      "Epoch: 160, Train Loss: 0.6925\n"
     ]
    },
    {
     "name": "stderr",
     "output_type": "stream",
     "text": [
      "100%|██████████| 535/535 [00:06<00:00, 86.30it/s]\n"
     ]
    },
    {
     "name": "stdout",
     "output_type": "stream",
     "text": [
      "Val Mean Rank: 3092.30, Val Mean Reciprocal Rank: 0.02, Val Hits@10: 0.0542\n",
      "Epoch: 161, Train Loss: 0.6925\n",
      "Epoch: 162, Train Loss: 0.6924\n",
      "Epoch: 163, Train Loss: 0.6923\n",
      "Epoch: 164, Train Loss: 0.6922\n",
      "Epoch: 165, Train Loss: 0.6922\n",
      "Epoch: 166, Train Loss: 0.6922\n",
      "Epoch: 167, Train Loss: 0.6920\n",
      "Epoch: 168, Train Loss: 0.6919\n",
      "Epoch: 169, Train Loss: 0.6919\n",
      "Epoch: 170, Train Loss: 0.6918\n"
     ]
    },
    {
     "name": "stderr",
     "output_type": "stream",
     "text": [
      "100%|██████████| 535/535 [00:06<00:00, 85.70it/s]\n"
     ]
    },
    {
     "name": "stdout",
     "output_type": "stream",
     "text": [
      "Val Mean Rank: 2832.28, Val Mean Reciprocal Rank: 0.02, Val Hits@10: 0.0430\n",
      "Epoch: 171, Train Loss: 0.6917\n",
      "Epoch: 172, Train Loss: 0.6916\n",
      "Epoch: 173, Train Loss: 0.6916\n",
      "Epoch: 174, Train Loss: 0.6915\n",
      "Epoch: 175, Train Loss: 0.6913\n",
      "Epoch: 176, Train Loss: 0.6914\n",
      "Epoch: 177, Train Loss: 0.6913\n",
      "Epoch: 178, Train Loss: 0.6911\n",
      "Epoch: 179, Train Loss: 0.6911\n",
      "Epoch: 180, Train Loss: 0.6910\n"
     ]
    },
    {
     "name": "stderr",
     "output_type": "stream",
     "text": [
      "100%|██████████| 535/535 [00:06<00:00, 84.64it/s]\n"
     ]
    },
    {
     "name": "stdout",
     "output_type": "stream",
     "text": [
      "Val Mean Rank: 3045.83, Val Mean Reciprocal Rank: 0.02, Val Hits@10: 0.0486\n",
      "Epoch: 181, Train Loss: 0.6911\n",
      "Epoch: 182, Train Loss: 0.6908\n",
      "Epoch: 183, Train Loss: 0.6909\n",
      "Epoch: 184, Train Loss: 0.6908\n",
      "Epoch: 185, Train Loss: 0.6907\n",
      "Epoch: 186, Train Loss: 0.6906\n",
      "Epoch: 187, Train Loss: 0.6906\n",
      "Epoch: 188, Train Loss: 0.6906\n",
      "Epoch: 189, Train Loss: 0.6904\n",
      "Epoch: 190, Train Loss: 0.6903\n"
     ]
    },
    {
     "name": "stderr",
     "output_type": "stream",
     "text": [
      "100%|██████████| 535/535 [00:06<00:00, 85.32it/s]\n"
     ]
    },
    {
     "name": "stdout",
     "output_type": "stream",
     "text": [
      "Val Mean Rank: 2699.54, Val Mean Reciprocal Rank: 0.02, Val Hits@10: 0.0449\n",
      "Epoch: 191, Train Loss: 0.6904\n",
      "Epoch: 192, Train Loss: 0.6902\n",
      "Epoch: 193, Train Loss: 0.6902\n",
      "Epoch: 194, Train Loss: 0.6901\n",
      "Epoch: 195, Train Loss: 0.6901\n",
      "Epoch: 196, Train Loss: 0.6900\n",
      "Epoch: 197, Train Loss: 0.6899\n",
      "Epoch: 198, Train Loss: 0.6898\n",
      "Epoch: 199, Train Loss: 0.6899\n",
      "Epoch: 200, Train Loss: 0.6898\n"
     ]
    },
    {
     "name": "stderr",
     "output_type": "stream",
     "text": [
      "100%|██████████| 535/535 [00:06<00:00, 86.00it/s]\n"
     ]
    },
    {
     "name": "stdout",
     "output_type": "stream",
     "text": [
      "Val Mean Rank: 3076.86, Val Mean Reciprocal Rank: 0.02, Val Hits@10: 0.0393\n",
      "Epoch: 201, Train Loss: 0.6897\n",
      "Epoch: 202, Train Loss: 0.6897\n",
      "Epoch: 203, Train Loss: 0.6895\n",
      "Epoch: 204, Train Loss: 0.6894\n",
      "Epoch: 205, Train Loss: 0.6895\n",
      "Epoch: 206, Train Loss: 0.6895\n",
      "Epoch: 207, Train Loss: 0.6894\n",
      "Epoch: 208, Train Loss: 0.6892\n",
      "Epoch: 209, Train Loss: 0.6893\n",
      "Epoch: 210, Train Loss: 0.6892\n"
     ]
    },
    {
     "name": "stderr",
     "output_type": "stream",
     "text": [
      "100%|██████████| 535/535 [00:06<00:00, 85.81it/s]\n"
     ]
    },
    {
     "name": "stdout",
     "output_type": "stream",
     "text": [
      "Val Mean Rank: 2912.99, Val Mean Reciprocal Rank: 0.01, Val Hits@10: 0.0299\n",
      "Epoch: 211, Train Loss: 0.6891\n",
      "Epoch: 212, Train Loss: 0.6892\n",
      "Epoch: 213, Train Loss: 0.6889\n",
      "Epoch: 214, Train Loss: 0.6890\n",
      "Epoch: 215, Train Loss: 0.6890\n",
      "Epoch: 216, Train Loss: 0.6889\n",
      "Epoch: 217, Train Loss: 0.6887\n",
      "Epoch: 218, Train Loss: 0.6888\n",
      "Epoch: 219, Train Loss: 0.6887\n",
      "Epoch: 220, Train Loss: 0.6888\n"
     ]
    },
    {
     "name": "stderr",
     "output_type": "stream",
     "text": [
      "100%|██████████| 535/535 [00:06<00:00, 76.67it/s]\n"
     ]
    },
    {
     "name": "stdout",
     "output_type": "stream",
     "text": [
      "Val Mean Rank: 2885.66, Val Mean Reciprocal Rank: 0.02, Val Hits@10: 0.0374\n",
      "Epoch: 221, Train Loss: 0.6888\n",
      "Epoch: 222, Train Loss: 0.6886\n",
      "Epoch: 223, Train Loss: 0.6885\n",
      "Epoch: 224, Train Loss: 0.6885\n",
      "Epoch: 225, Train Loss: 0.6884\n",
      "Epoch: 226, Train Loss: 0.6885\n",
      "Epoch: 227, Train Loss: 0.6885\n",
      "Epoch: 228, Train Loss: 0.6883\n",
      "Epoch: 229, Train Loss: 0.6883\n",
      "Epoch: 230, Train Loss: 0.6883\n"
     ]
    },
    {
     "name": "stderr",
     "output_type": "stream",
     "text": [
      "100%|██████████| 535/535 [00:06<00:00, 85.34it/s]\n"
     ]
    },
    {
     "name": "stdout",
     "output_type": "stream",
     "text": [
      "Val Mean Rank: 2810.47, Val Mean Reciprocal Rank: 0.02, Val Hits@10: 0.0318\n",
      "Epoch: 231, Train Loss: 0.6882\n",
      "Epoch: 232, Train Loss: 0.6882\n",
      "Epoch: 233, Train Loss: 0.6881\n",
      "Epoch: 234, Train Loss: 0.6880\n",
      "Epoch: 235, Train Loss: 0.6881\n",
      "Epoch: 236, Train Loss: 0.6880\n",
      "Epoch: 237, Train Loss: 0.6879\n",
      "Epoch: 238, Train Loss: 0.6879\n",
      "Epoch: 239, Train Loss: 0.6880\n",
      "Epoch: 240, Train Loss: 0.6876\n"
     ]
    },
    {
     "name": "stderr",
     "output_type": "stream",
     "text": [
      "100%|██████████| 535/535 [00:06<00:00, 80.84it/s]\n"
     ]
    },
    {
     "name": "stdout",
     "output_type": "stream",
     "text": [
      "Val Mean Rank: 3087.48, Val Mean Reciprocal Rank: 0.02, Val Hits@10: 0.0430\n",
      "Epoch: 241, Train Loss: 0.6878\n",
      "Epoch: 242, Train Loss: 0.6877\n",
      "Epoch: 243, Train Loss: 0.6878\n",
      "Epoch: 244, Train Loss: 0.6877\n",
      "Epoch: 245, Train Loss: 0.6876\n",
      "Epoch: 246, Train Loss: 0.6876\n",
      "Epoch: 247, Train Loss: 0.6876\n",
      "Epoch: 248, Train Loss: 0.6875\n",
      "Epoch: 249, Train Loss: 0.6875\n",
      "Epoch: 250, Train Loss: 0.6874\n"
     ]
    },
    {
     "name": "stderr",
     "output_type": "stream",
     "text": [
      "100%|██████████| 535/535 [00:07<00:00, 73.84it/s]\n"
     ]
    },
    {
     "name": "stdout",
     "output_type": "stream",
     "text": [
      "Val Mean Rank: 3149.40, Val Mean Reciprocal Rank: 0.02, Val Hits@10: 0.0224\n",
      "Epoch: 251, Train Loss: 0.6874\n",
      "Epoch: 252, Train Loss: 0.6873\n",
      "Epoch: 253, Train Loss: 0.6874\n",
      "Epoch: 254, Train Loss: 0.6871\n",
      "Epoch: 255, Train Loss: 0.6874\n",
      "Epoch: 256, Train Loss: 0.6871\n",
      "Epoch: 257, Train Loss: 0.6871\n",
      "Epoch: 258, Train Loss: 0.6871\n",
      "Epoch: 259, Train Loss: 0.6870\n",
      "Epoch: 260, Train Loss: 0.6870\n"
     ]
    },
    {
     "name": "stderr",
     "output_type": "stream",
     "text": [
      "100%|██████████| 535/535 [00:06<00:00, 79.33it/s]\n"
     ]
    },
    {
     "name": "stdout",
     "output_type": "stream",
     "text": [
      "Val Mean Rank: 2626.41, Val Mean Reciprocal Rank: 0.02, Val Hits@10: 0.0168\n",
      "Epoch: 261, Train Loss: 0.6870\n",
      "Epoch: 262, Train Loss: 0.6869\n",
      "Epoch: 263, Train Loss: 0.6868\n",
      "Epoch: 264, Train Loss: 0.6868\n",
      "Epoch: 265, Train Loss: 0.6868\n",
      "Epoch: 266, Train Loss: 0.6867\n",
      "Epoch: 267, Train Loss: 0.6868\n",
      "Epoch: 268, Train Loss: 0.6867\n",
      "Epoch: 269, Train Loss: 0.6868\n",
      "Epoch: 270, Train Loss: 0.6867\n"
     ]
    },
    {
     "name": "stderr",
     "output_type": "stream",
     "text": [
      "100%|██████████| 535/535 [00:06<00:00, 86.81it/s]\n"
     ]
    },
    {
     "name": "stdout",
     "output_type": "stream",
     "text": [
      "Val Mean Rank: 2653.36, Val Mean Reciprocal Rank: 0.01, Val Hits@10: 0.0187\n",
      "Epoch: 271, Train Loss: 0.6866\n",
      "Epoch: 272, Train Loss: 0.6867\n",
      "Epoch: 273, Train Loss: 0.6866\n",
      "Epoch: 274, Train Loss: 0.6866\n",
      "Epoch: 275, Train Loss: 0.6866\n",
      "Epoch: 276, Train Loss: 0.6865\n",
      "Epoch: 277, Train Loss: 0.6865\n",
      "Epoch: 278, Train Loss: 0.6863\n",
      "Epoch: 279, Train Loss: 0.6863\n",
      "Epoch: 280, Train Loss: 0.6862\n"
     ]
    },
    {
     "name": "stderr",
     "output_type": "stream",
     "text": [
      "100%|██████████| 535/535 [00:06<00:00, 81.77it/s]\n"
     ]
    },
    {
     "name": "stdout",
     "output_type": "stream",
     "text": [
      "Val Mean Rank: 2909.23, Val Mean Reciprocal Rank: 0.01, Val Hits@10: 0.0224\n",
      "Epoch: 281, Train Loss: 0.6864\n",
      "Epoch: 282, Train Loss: 0.6863\n",
      "Epoch: 283, Train Loss: 0.6863\n",
      "Epoch: 284, Train Loss: 0.6861\n",
      "Epoch: 285, Train Loss: 0.6862\n",
      "Epoch: 286, Train Loss: 0.6861\n",
      "Epoch: 287, Train Loss: 0.6861\n",
      "Epoch: 288, Train Loss: 0.6861\n",
      "Epoch: 289, Train Loss: 0.6861\n",
      "Epoch: 290, Train Loss: 0.6861\n"
     ]
    },
    {
     "name": "stderr",
     "output_type": "stream",
     "text": [
      "100%|██████████| 535/535 [00:06<00:00, 86.09it/s]\n"
     ]
    },
    {
     "name": "stdout",
     "output_type": "stream",
     "text": [
      "Val Mean Rank: 3073.48, Val Mean Reciprocal Rank: 0.01, Val Hits@10: 0.0262\n",
      "Epoch: 291, Train Loss: 0.6860\n",
      "Epoch: 292, Train Loss: 0.6860\n",
      "Epoch: 293, Train Loss: 0.6860\n",
      "Epoch: 294, Train Loss: 0.6860\n",
      "Epoch: 295, Train Loss: 0.6858\n",
      "Epoch: 296, Train Loss: 0.6859\n",
      "Epoch: 297, Train Loss: 0.6857\n",
      "Epoch: 298, Train Loss: 0.6858\n",
      "Epoch: 299, Train Loss: 0.6858\n",
      "Epoch: 300, Train Loss: 0.6858\n"
     ]
    },
    {
     "name": "stderr",
     "output_type": "stream",
     "text": [
      "100%|██████████| 535/535 [00:06<00:00, 76.55it/s]\n"
     ]
    },
    {
     "name": "stdout",
     "output_type": "stream",
     "text": [
      "Val Mean Rank: 2958.93, Val Mean Reciprocal Rank: 0.01, Val Hits@10: 0.0206\n",
      "Epoch: 301, Train Loss: 0.6857\n",
      "Epoch: 302, Train Loss: 0.6858\n",
      "Epoch: 303, Train Loss: 0.6858\n",
      "Epoch: 304, Train Loss: 0.6857\n",
      "Epoch: 305, Train Loss: 0.6856\n",
      "Epoch: 306, Train Loss: 0.6857\n",
      "Epoch: 307, Train Loss: 0.6856\n",
      "Epoch: 308, Train Loss: 0.6856\n",
      "Epoch: 309, Train Loss: 0.6855\n",
      "Epoch: 310, Train Loss: 0.6854\n"
     ]
    },
    {
     "name": "stderr",
     "output_type": "stream",
     "text": [
      "100%|██████████| 535/535 [00:06<00:00, 86.19it/s]\n"
     ]
    },
    {
     "name": "stdout",
     "output_type": "stream",
     "text": [
      "Val Mean Rank: 3020.76, Val Mean Reciprocal Rank: 0.01, Val Hits@10: 0.0131\n",
      "Epoch: 311, Train Loss: 0.6855\n",
      "Epoch: 312, Train Loss: 0.6854\n",
      "Epoch: 313, Train Loss: 0.6854\n",
      "Epoch: 314, Train Loss: 0.6853\n",
      "Epoch: 315, Train Loss: 0.6854\n",
      "Epoch: 316, Train Loss: 0.6854\n",
      "Epoch: 317, Train Loss: 0.6853\n",
      "Epoch: 318, Train Loss: 0.6852\n",
      "Epoch: 319, Train Loss: 0.6852\n",
      "Epoch: 320, Train Loss: 0.6852\n"
     ]
    },
    {
     "name": "stderr",
     "output_type": "stream",
     "text": [
      "100%|██████████| 535/535 [00:06<00:00, 85.78it/s]\n"
     ]
    },
    {
     "name": "stdout",
     "output_type": "stream",
     "text": [
      "Val Mean Rank: 2917.33, Val Mean Reciprocal Rank: 0.02, Val Hits@10: 0.0280\n",
      "Epoch: 321, Train Loss: 0.6853\n",
      "Epoch: 322, Train Loss: 0.6852\n",
      "Epoch: 323, Train Loss: 0.6851\n",
      "Epoch: 324, Train Loss: 0.6852\n",
      "Epoch: 325, Train Loss: 0.6851\n",
      "Epoch: 326, Train Loss: 0.6851\n",
      "Epoch: 327, Train Loss: 0.6850\n",
      "Epoch: 328, Train Loss: 0.6850\n",
      "Epoch: 329, Train Loss: 0.6851\n",
      "Epoch: 330, Train Loss: 0.6850\n"
     ]
    },
    {
     "name": "stderr",
     "output_type": "stream",
     "text": [
      "100%|██████████| 535/535 [00:06<00:00, 81.59it/s]\n"
     ]
    },
    {
     "name": "stdout",
     "output_type": "stream",
     "text": [
      "Val Mean Rank: 2842.27, Val Mean Reciprocal Rank: 0.02, Val Hits@10: 0.0299\n",
      "Epoch: 331, Train Loss: 0.6851\n",
      "Epoch: 332, Train Loss: 0.6849\n",
      "Epoch: 333, Train Loss: 0.6851\n",
      "Epoch: 334, Train Loss: 0.6850\n",
      "Epoch: 335, Train Loss: 0.6848\n",
      "Epoch: 336, Train Loss: 0.6850\n",
      "Epoch: 337, Train Loss: 0.6849\n",
      "Epoch: 338, Train Loss: 0.6848\n",
      "Epoch: 339, Train Loss: 0.6848\n",
      "Epoch: 340, Train Loss: 0.6847\n"
     ]
    },
    {
     "name": "stderr",
     "output_type": "stream",
     "text": [
      "100%|██████████| 535/535 [00:06<00:00, 80.43it/s]\n"
     ]
    },
    {
     "name": "stdout",
     "output_type": "stream",
     "text": [
      "Val Mean Rank: 2482.72, Val Mean Reciprocal Rank: 0.01, Val Hits@10: 0.0112\n",
      "Epoch: 341, Train Loss: 0.6848\n",
      "Epoch: 342, Train Loss: 0.6847\n",
      "Epoch: 343, Train Loss: 0.6847\n",
      "Epoch: 344, Train Loss: 0.6847\n",
      "Epoch: 345, Train Loss: 0.6846\n",
      "Epoch: 346, Train Loss: 0.6846\n",
      "Epoch: 347, Train Loss: 0.6846\n",
      "Epoch: 348, Train Loss: 0.6846\n",
      "Epoch: 349, Train Loss: 0.6846\n",
      "Epoch: 350, Train Loss: 0.6846\n"
     ]
    },
    {
     "name": "stderr",
     "output_type": "stream",
     "text": [
      "100%|██████████| 535/535 [00:06<00:00, 83.06it/s]\n"
     ]
    },
    {
     "name": "stdout",
     "output_type": "stream",
     "text": [
      "Val Mean Rank: 2730.84, Val Mean Reciprocal Rank: 0.01, Val Hits@10: 0.0131\n",
      "Epoch: 351, Train Loss: 0.6846\n",
      "Epoch: 352, Train Loss: 0.6846\n",
      "Epoch: 353, Train Loss: 0.6845\n",
      "Epoch: 354, Train Loss: 0.6844\n",
      "Epoch: 355, Train Loss: 0.6844\n",
      "Epoch: 356, Train Loss: 0.6844\n",
      "Epoch: 357, Train Loss: 0.6845\n",
      "Epoch: 358, Train Loss: 0.6844\n",
      "Epoch: 359, Train Loss: 0.6845\n",
      "Epoch: 360, Train Loss: 0.6844\n"
     ]
    },
    {
     "name": "stderr",
     "output_type": "stream",
     "text": [
      "100%|██████████| 535/535 [00:06<00:00, 83.77it/s]\n"
     ]
    },
    {
     "name": "stdout",
     "output_type": "stream",
     "text": [
      "Val Mean Rank: 2832.02, Val Mean Reciprocal Rank: 0.01, Val Hits@10: 0.0187\n",
      "Epoch: 361, Train Loss: 0.6845\n",
      "Epoch: 362, Train Loss: 0.6843\n",
      "Epoch: 363, Train Loss: 0.6844\n",
      "Epoch: 364, Train Loss: 0.6843\n",
      "Epoch: 365, Train Loss: 0.6843\n",
      "Epoch: 366, Train Loss: 0.6842\n",
      "Epoch: 367, Train Loss: 0.6842\n",
      "Epoch: 368, Train Loss: 0.6843\n",
      "Epoch: 369, Train Loss: 0.6842\n",
      "Epoch: 370, Train Loss: 0.6843\n"
     ]
    },
    {
     "name": "stderr",
     "output_type": "stream",
     "text": [
      "100%|██████████| 535/535 [00:06<00:00, 86.08it/s]\n"
     ]
    },
    {
     "name": "stdout",
     "output_type": "stream",
     "text": [
      "Val Mean Rank: 2651.85, Val Mean Reciprocal Rank: 0.01, Val Hits@10: 0.0168\n",
      "Epoch: 371, Train Loss: 0.6843\n",
      "Epoch: 372, Train Loss: 0.6843\n",
      "Epoch: 373, Train Loss: 0.6842\n",
      "Epoch: 374, Train Loss: 0.6841\n",
      "Epoch: 375, Train Loss: 0.6841\n",
      "Epoch: 376, Train Loss: 0.6841\n",
      "Epoch: 377, Train Loss: 0.6841\n",
      "Epoch: 378, Train Loss: 0.6840\n",
      "Epoch: 379, Train Loss: 0.6841\n",
      "Epoch: 380, Train Loss: 0.6840\n"
     ]
    },
    {
     "name": "stderr",
     "output_type": "stream",
     "text": [
      "100%|██████████| 535/535 [00:06<00:00, 85.99it/s]\n"
     ]
    },
    {
     "name": "stdout",
     "output_type": "stream",
     "text": [
      "Val Mean Rank: 2875.49, Val Mean Reciprocal Rank: 0.01, Val Hits@10: 0.0093\n",
      "Epoch: 381, Train Loss: 0.6840\n",
      "Epoch: 382, Train Loss: 0.6840\n",
      "Epoch: 383, Train Loss: 0.6839\n",
      "Epoch: 384, Train Loss: 0.6839\n",
      "Epoch: 385, Train Loss: 0.6839\n",
      "Epoch: 386, Train Loss: 0.6839\n",
      "Epoch: 387, Train Loss: 0.6839\n",
      "Epoch: 388, Train Loss: 0.6839\n",
      "Epoch: 389, Train Loss: 0.6838\n",
      "Epoch: 390, Train Loss: 0.6839\n"
     ]
    },
    {
     "name": "stderr",
     "output_type": "stream",
     "text": [
      "100%|██████████| 535/535 [00:06<00:00, 82.24it/s]\n"
     ]
    },
    {
     "name": "stdout",
     "output_type": "stream",
     "text": [
      "Val Mean Rank: 3184.83, Val Mean Reciprocal Rank: 0.01, Val Hits@10: 0.0075\n",
      "Epoch: 391, Train Loss: 0.6839\n",
      "Epoch: 392, Train Loss: 0.6836\n",
      "Epoch: 393, Train Loss: 0.6838\n",
      "Epoch: 394, Train Loss: 0.6839\n",
      "Epoch: 395, Train Loss: 0.6839\n",
      "Epoch: 396, Train Loss: 0.6839\n",
      "Epoch: 397, Train Loss: 0.6837\n",
      "Epoch: 398, Train Loss: 0.6837\n",
      "Epoch: 399, Train Loss: 0.6837\n",
      "Epoch: 400, Train Loss: 0.6837\n"
     ]
    },
    {
     "name": "stderr",
     "output_type": "stream",
     "text": [
      "100%|██████████| 535/535 [00:07<00:00, 76.34it/s]\n"
     ]
    },
    {
     "name": "stdout",
     "output_type": "stream",
     "text": [
      "Val Mean Rank: 2790.42, Val Mean Reciprocal Rank: 0.01, Val Hits@10: 0.0224\n",
      "Epoch: 401, Train Loss: 0.6837\n",
      "Epoch: 402, Train Loss: 0.6836\n",
      "Epoch: 403, Train Loss: 0.6835\n",
      "Epoch: 404, Train Loss: 0.6836\n",
      "Epoch: 405, Train Loss: 0.6837\n",
      "Epoch: 406, Train Loss: 0.6837\n",
      "Epoch: 407, Train Loss: 0.6837\n",
      "Epoch: 408, Train Loss: 0.6836\n",
      "Epoch: 409, Train Loss: 0.6836\n",
      "Epoch: 410, Train Loss: 0.6836\n"
     ]
    },
    {
     "name": "stderr",
     "output_type": "stream",
     "text": [
      "100%|██████████| 535/535 [00:06<00:00, 83.37it/s]\n"
     ]
    },
    {
     "name": "stdout",
     "output_type": "stream",
     "text": [
      "Val Mean Rank: 2666.19, Val Mean Reciprocal Rank: 0.01, Val Hits@10: 0.0206\n",
      "Epoch: 411, Train Loss: 0.6835\n",
      "Epoch: 412, Train Loss: 0.6836\n",
      "Epoch: 413, Train Loss: 0.6835\n",
      "Epoch: 414, Train Loss: 0.6836\n",
      "Epoch: 415, Train Loss: 0.6836\n",
      "Epoch: 416, Train Loss: 0.6835\n",
      "Epoch: 417, Train Loss: 0.6835\n",
      "Epoch: 418, Train Loss: 0.6834\n",
      "Epoch: 419, Train Loss: 0.6835\n",
      "Epoch: 420, Train Loss: 0.6833\n"
     ]
    },
    {
     "name": "stderr",
     "output_type": "stream",
     "text": [
      "100%|██████████| 535/535 [00:06<00:00, 84.78it/s]\n"
     ]
    },
    {
     "name": "stdout",
     "output_type": "stream",
     "text": [
      "Val Mean Rank: 2799.31, Val Mean Reciprocal Rank: 0.01, Val Hits@10: 0.0168\n",
      "Epoch: 421, Train Loss: 0.6834\n",
      "Epoch: 422, Train Loss: 0.6834\n",
      "Epoch: 423, Train Loss: 0.6835\n",
      "Epoch: 424, Train Loss: 0.6833\n",
      "Epoch: 425, Train Loss: 0.6833\n",
      "Epoch: 426, Train Loss: 0.6832\n",
      "Epoch: 427, Train Loss: 0.6833\n",
      "Epoch: 428, Train Loss: 0.6834\n",
      "Epoch: 429, Train Loss: 0.6832\n",
      "Epoch: 430, Train Loss: 0.6832\n"
     ]
    },
    {
     "name": "stderr",
     "output_type": "stream",
     "text": [
      "100%|██████████| 535/535 [00:06<00:00, 84.61it/s]\n"
     ]
    },
    {
     "name": "stdout",
     "output_type": "stream",
     "text": [
      "Val Mean Rank: 2762.47, Val Mean Reciprocal Rank: 0.01, Val Hits@10: 0.0243\n",
      "Epoch: 431, Train Loss: 0.6833\n",
      "Epoch: 432, Train Loss: 0.6832\n",
      "Epoch: 433, Train Loss: 0.6834\n",
      "Epoch: 434, Train Loss: 0.6832\n",
      "Epoch: 435, Train Loss: 0.6832\n",
      "Epoch: 436, Train Loss: 0.6832\n",
      "Epoch: 437, Train Loss: 0.6832\n",
      "Epoch: 438, Train Loss: 0.6831\n",
      "Epoch: 439, Train Loss: 0.6833\n",
      "Epoch: 440, Train Loss: 0.6831\n"
     ]
    },
    {
     "name": "stderr",
     "output_type": "stream",
     "text": [
      "100%|██████████| 535/535 [00:06<00:00, 85.18it/s]\n"
     ]
    },
    {
     "name": "stdout",
     "output_type": "stream",
     "text": [
      "Val Mean Rank: 2549.01, Val Mean Reciprocal Rank: 0.01, Val Hits@10: 0.0168\n",
      "Epoch: 441, Train Loss: 0.6832\n",
      "Epoch: 442, Train Loss: 0.6831\n",
      "Epoch: 443, Train Loss: 0.6832\n",
      "Epoch: 444, Train Loss: 0.6831\n",
      "Epoch: 445, Train Loss: 0.6831\n",
      "Epoch: 446, Train Loss: 0.6831\n",
      "Epoch: 447, Train Loss: 0.6830\n",
      "Epoch: 448, Train Loss: 0.6831\n",
      "Epoch: 449, Train Loss: 0.6831\n",
      "Epoch: 450, Train Loss: 0.6832\n"
     ]
    },
    {
     "name": "stderr",
     "output_type": "stream",
     "text": [
      "100%|██████████| 535/535 [00:06<00:00, 84.37it/s]\n"
     ]
    },
    {
     "name": "stdout",
     "output_type": "stream",
     "text": [
      "Val Mean Rank: 2988.69, Val Mean Reciprocal Rank: 0.01, Val Hits@10: 0.0168\n",
      "Epoch: 451, Train Loss: 0.6830\n",
      "Epoch: 452, Train Loss: 0.6831\n",
      "Epoch: 453, Train Loss: 0.6830\n",
      "Epoch: 454, Train Loss: 0.6831\n",
      "Epoch: 455, Train Loss: 0.6830\n",
      "Epoch: 456, Train Loss: 0.6831\n",
      "Epoch: 457, Train Loss: 0.6829\n",
      "Epoch: 458, Train Loss: 0.6830\n",
      "Epoch: 459, Train Loss: 0.6829\n",
      "Epoch: 460, Train Loss: 0.6829\n"
     ]
    },
    {
     "name": "stderr",
     "output_type": "stream",
     "text": [
      "100%|██████████| 535/535 [00:07<00:00, 73.65it/s]\n"
     ]
    },
    {
     "name": "stdout",
     "output_type": "stream",
     "text": [
      "Val Mean Rank: 2749.34, Val Mean Reciprocal Rank: 0.01, Val Hits@10: 0.0187\n",
      "Epoch: 461, Train Loss: 0.6829\n",
      "Epoch: 462, Train Loss: 0.6829\n",
      "Epoch: 463, Train Loss: 0.6829\n",
      "Epoch: 464, Train Loss: 0.6828\n",
      "Epoch: 465, Train Loss: 0.6828\n",
      "Epoch: 466, Train Loss: 0.6828\n",
      "Epoch: 467, Train Loss: 0.6828\n",
      "Epoch: 468, Train Loss: 0.6828\n",
      "Epoch: 469, Train Loss: 0.6829\n",
      "Epoch: 470, Train Loss: 0.6829\n"
     ]
    },
    {
     "name": "stderr",
     "output_type": "stream",
     "text": [
      "100%|██████████| 535/535 [00:07<00:00, 75.79it/s]\n"
     ]
    },
    {
     "name": "stdout",
     "output_type": "stream",
     "text": [
      "Val Mean Rank: 2834.98, Val Mean Reciprocal Rank: 0.01, Val Hits@10: 0.0131\n",
      "Epoch: 471, Train Loss: 0.6829\n",
      "Epoch: 472, Train Loss: 0.6829\n",
      "Epoch: 473, Train Loss: 0.6827\n",
      "Epoch: 474, Train Loss: 0.6827\n",
      "Epoch: 475, Train Loss: 0.6829\n",
      "Epoch: 476, Train Loss: 0.6827\n",
      "Epoch: 477, Train Loss: 0.6829\n",
      "Epoch: 478, Train Loss: 0.6827\n",
      "Epoch: 479, Train Loss: 0.6829\n",
      "Epoch: 480, Train Loss: 0.6827\n"
     ]
    },
    {
     "name": "stderr",
     "output_type": "stream",
     "text": [
      "100%|██████████| 535/535 [00:07<00:00, 74.95it/s]\n"
     ]
    },
    {
     "name": "stdout",
     "output_type": "stream",
     "text": [
      "Val Mean Rank: 2625.04, Val Mean Reciprocal Rank: 0.01, Val Hits@10: 0.0112\n",
      "Epoch: 481, Train Loss: 0.6826\n",
      "Epoch: 482, Train Loss: 0.6826\n",
      "Epoch: 483, Train Loss: 0.6828\n",
      "Epoch: 484, Train Loss: 0.6827\n",
      "Epoch: 485, Train Loss: 0.6827\n",
      "Epoch: 486, Train Loss: 0.6826\n",
      "Epoch: 487, Train Loss: 0.6826\n",
      "Epoch: 488, Train Loss: 0.6826\n",
      "Epoch: 489, Train Loss: 0.6825\n",
      "Epoch: 490, Train Loss: 0.6826\n"
     ]
    },
    {
     "name": "stderr",
     "output_type": "stream",
     "text": [
      "100%|██████████| 535/535 [00:06<00:00, 85.86it/s]\n"
     ]
    },
    {
     "name": "stdout",
     "output_type": "stream",
     "text": [
      "Val Mean Rank: 2941.70, Val Mean Reciprocal Rank: 0.01, Val Hits@10: 0.0187\n",
      "Epoch: 491, Train Loss: 0.6826\n",
      "Epoch: 492, Train Loss: 0.6827\n",
      "Epoch: 493, Train Loss: 0.6827\n",
      "Epoch: 494, Train Loss: 0.6825\n",
      "Epoch: 495, Train Loss: 0.6826\n",
      "Epoch: 496, Train Loss: 0.6827\n",
      "Epoch: 497, Train Loss: 0.6826\n",
      "Epoch: 498, Train Loss: 0.6824\n",
      "Epoch: 499, Train Loss: 0.6826\n"
     ]
    },
    {
     "name": "stderr",
     "output_type": "stream",
     "text": [
      "100%|██████████| 466/466 [00:05<00:00, 85.19it/s]\n"
     ]
    },
    {
     "name": "stdout",
     "output_type": "stream",
     "text": [
      "Test Mean Rank: 2696.32, Test Mean Reciprocal Rank: 0.01, Test Hits@10: 0.0107\n"
     ]
    },
    {
     "data": {
      "text/html": [
       "<style>\n",
       "    table.wandb td:nth-child(1) { padding: 0 10px; text-align: left ; width: auto;} td:nth-child(2) {text-align: left ; width: 100%}\n",
       "    .wandb-row { display: flex; flex-direction: row; flex-wrap: wrap; justify-content: flex-start; width: 100% }\n",
       "    .wandb-col { display: flex; flex-direction: column; flex-basis: 100%; flex: 1; padding: 10px; }\n",
       "    </style>\n",
       "<div class=\"wandb-row\"><div class=\"wandb-col\"><h3>Run history:</h3><br/><table class=\"wandb\"><tr><td>test_hits_at_10</td><td>▁</td></tr><tr><td>test_loss</td><td>▁</td></tr><tr><td>test_mean_rank</td><td>▁</td></tr><tr><td>test_mrr</td><td>▁</td></tr><tr><td>train_epoch</td><td>▁▁▁▂▂▂▂▂▂▃▃▃▃▃▄▄▄▄▄▄▅▅▅▅▅▅▆▆▆▆▆▇▇▇▇▇▇███</td></tr><tr><td>train_loss</td><td>█▆▅▄▄▃▃▃▃▂▂▂▂▂▂▂▂▂▂▁▁▁▁▁▁▁▁▁▁▁▁▁▁▁▁▁▁▁▁▁</td></tr><tr><td>val_hits_at_10</td><td>▁▂▃▇▇██▆██▅▇▆▅▆▅▅▅▄▅▂▃▃▃▃▄▄▂▂▃▂▁▃▂▃▂▂▃▂▃</td></tr><tr><td>val_loss</td><td>█▇▆▅▅▄▄▄▄▃▃▃▃▃▂▂▂▂▂▂▂▂▂▂▂▂▁▁▁▁▁▁▁▁▁▁▁▁▁▁</td></tr><tr><td>val_mean_rank</td><td>█▆▅▅▄▄▃▃▃▃▄▂▃▂▃▂▃▂▂▃▂▂▂▃▃▃▂▁▂▂▂▃▂▂▂▁▃▂▁▃</td></tr><tr><td>val_mrr</td><td>▁▃▄█▆▇▇▆▇█▅▆▇▅▇▅▄▅▅▅▄▄▄▄▄▅▅▄▄▄▃▃▄▃▄▄▃▄▃▃</td></tr></table><br/></div><div class=\"wandb-col\"><h3>Run summary:</h3><br/><table class=\"wandb\"><tr><td>test_hits_at_10</td><td>0.01073</td></tr><tr><td>test_loss</td><td>0.66844</td></tr><tr><td>test_mean_rank</td><td>2696.32178</td></tr><tr><td>test_mrr</td><td>0.01191</td></tr><tr><td>train_epoch</td><td>499</td></tr><tr><td>train_loss</td><td>0.68257</td></tr><tr><td>val_hits_at_10</td><td>0.01869</td></tr><tr><td>val_loss</td><td>0.66844</td></tr><tr><td>val_mean_rank</td><td>2941.70288</td></tr><tr><td>val_mrr</td><td>0.01015</td></tr></table><br/></div></div>"
      ],
      "text/plain": [
       "<IPython.core.display.HTML object>"
      ]
     },
     "metadata": {},
     "output_type": "display_data"
    },
    {
     "data": {
      "text/html": [
       " View run <strong style=\"color:#cdcd00\">FB15k_237_RotatE_embedding_model 2024-04-03 17:14:34</strong> at: <a href='https://wandb.ai/bthill1/ScoreMatchingDiffKG_Embedding/runs/7ddg43sr' target=\"_blank\">https://wandb.ai/bthill1/ScoreMatchingDiffKG_Embedding/runs/7ddg43sr</a><br/> View job at <a href='https://wandb.ai/bthill1/ScoreMatchingDiffKG_Embedding/jobs/QXJ0aWZhY3RDb2xsZWN0aW9uOjE1NTk2OTUzMw==/version_details/v0' target=\"_blank\">https://wandb.ai/bthill1/ScoreMatchingDiffKG_Embedding/jobs/QXJ0aWZhY3RDb2xsZWN0aW9uOjE1NTk2OTUzMw==/version_details/v0</a><br/>Synced 6 W&B file(s), 0 media file(s), 2 artifact file(s) and 1 other file(s)"
      ],
      "text/plain": [
       "<IPython.core.display.HTML object>"
      ]
     },
     "metadata": {},
     "output_type": "display_data"
    },
    {
     "data": {
      "text/html": [
       "Find logs at: <code>./wandb/run-20240403_171434-7ddg43sr/logs</code>"
      ],
      "text/plain": [
       "<IPython.core.display.HTML object>"
      ]
     },
     "metadata": {},
     "output_type": "display_data"
    }
   ],
   "source": [
    "if run_sweep:\n",
    "\n",
    "    with open(\"sweep_config.yaml\", \"r\") as file:\n",
    "        sweep_config = yaml.safe_load(file)\n",
    "\n",
    "    sweep_id = wandb.sweep(project=f\"ScoreMatchingDiffKG_Embedding_Sweep\", sweep=sweep_config)\n",
    "\n",
    "    wandb.agent(sweep_id, function=main)\n",
    "else:\n",
    "    model = main(config, verbose=True)"
   ]
  }
 ],
 "metadata": {
  "kernelspec": {
   "display_name": "ScoreMatchingDiffKG",
   "language": "python",
   "name": "python3"
  },
  "language_info": {
   "codemirror_mode": {
    "name": "ipython",
    "version": 3
   },
   "file_extension": ".py",
   "mimetype": "text/x-python",
   "name": "python",
   "nbconvert_exporter": "python",
   "pygments_lexer": "ipython3",
   "version": "3.9.18"
  }
 },
 "nbformat": 4,
 "nbformat_minor": 2
}
