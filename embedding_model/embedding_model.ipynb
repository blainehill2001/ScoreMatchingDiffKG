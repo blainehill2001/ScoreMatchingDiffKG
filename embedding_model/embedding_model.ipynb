{
 "cells": [
  {
   "cell_type": "markdown",
   "metadata": {},
   "source": [
    "## Author: Blaine Hill\n",
    "\n",
    "In this notebook, we program out how to embed a KG such as FB15k_237 using RotatE. The weights are saved under embedding_model_weights.pth"
   ]
  },
  {
   "cell_type": "code",
   "execution_count": 1,
   "metadata": {},
   "outputs": [
    {
     "name": "stderr",
     "output_type": "stream",
     "text": [
      "\u001b[34m\u001b[1mwandb\u001b[0m: Currently logged in as: \u001b[33mbthill1\u001b[0m. Use \u001b[1m`wandb login --relogin`\u001b[0m to force relogin\n"
     ]
    }
   ],
   "source": [
    "import os\n",
    "os.environ[\"WANDB_NOTEBOOK_NAME\"] = \"embedding_model.ipynb\"\n",
    "\n",
    "import wandb\n",
    "wandb.login()\n",
    "\n",
    "import torch\n",
    "from torch_geometric.datasets import FB15k_237\n",
    "from torch_geometric.nn import RotatE\n",
    "from torch_geometric.loader import DataLoader\n",
    "import torch.optim as optim\n",
    "\n",
    "import os\n",
    "import os.path as osp\n",
    "\n",
    "from datetime import datetime\n",
    "from torch_geometric.datasets import FB15k_237\n",
    "from torch_geometric.nn import ComplEx\n",
    "\n",
    "import yaml\n",
    "from icecream import ic"
   ]
  },
  {
   "cell_type": "code",
   "execution_count": 2,
   "metadata": {},
   "outputs": [
    {
     "name": "stderr",
     "output_type": "stream",
     "text": [
      "/home/blaineh2/anaconda3/envs/ScoreMatchingDiffKG/lib/python3.9/site-packages/torch/cuda/__init__.py:141: UserWarning: CUDA initialization: The NVIDIA driver on your system is too old (found version 11040). Please update your GPU driver by downloading and installing a new version from the URL: http://www.nvidia.com/Download/index.aspx Alternatively, go to: https://pytorch.org to install a PyTorch version that has been compiled with your version of the CUDA driver. (Triggered internally at ../c10/cuda/CUDAFunctions.cpp:108.)\n",
      "  return torch._C._cuda_getDeviceCount() > 0\n"
     ]
    }
   ],
   "source": [
    "dataset_name='FB15k_237'\n",
    "embedding_model_name='RotatE'\n",
    "\n",
    "device = 'cuda' if torch.cuda.is_available() else 'cpu'\n",
    "path = osp.join(os.getcwd(), '..', 'data', dataset_name)\n",
    "\n",
    "train_data = FB15k_237(path, split='train')[0].to(device)\n",
    "val_data = FB15k_237(path, split='val')[0].to(device)\n",
    "test_data = FB15k_237(path, split='test')[0].to(device)"
   ]
  },
  {
   "cell_type": "code",
   "execution_count": 3,
   "metadata": {},
   "outputs": [],
   "source": [
    "def build_model(config):\n",
    "\n",
    "    model = RotatE(num_nodes=train_data.num_nodes, num_relations=train_data.num_edge_types, hidden_channels=config.hidden_channels).to(device) \n",
    "\n",
    "    train_loader = model.loader(\n",
    "        head_index=train_data.edge_index[0],\n",
    "        rel_type=train_data.edge_type,\n",
    "        tail_index=train_data.edge_index[1],\n",
    "        batch_size=config.batch_size,\n",
    "        shuffle=True,\n",
    "    )\n",
    "    val_loader = model.loader(\n",
    "        head_index=val_data.edge_index[0],\n",
    "        rel_type=val_data.edge_type,\n",
    "        tail_index=val_data.edge_index[1],\n",
    "        batch_size=config.batch_size,\n",
    "        shuffle=True,\n",
    "    )\n",
    "    test_loader = model.loader(\n",
    "        head_index=test_data.edge_index[0],\n",
    "        rel_type=test_data.edge_type,\n",
    "        tail_index=test_data.edge_index[1],\n",
    "        batch_size=config.batch_size,\n",
    "        shuffle=True,\n",
    "    )\n",
    "    \n",
    "    optimizer = optim.Adagrad(model.parameters(), lr=config.lr, weight_decay=config.weight_decay)\n",
    "\n",
    "    \n",
    "    return model, optimizer, train_loader, val_loader, test_loader"
   ]
  },
  {
   "cell_type": "code",
   "execution_count": 4,
   "metadata": {},
   "outputs": [],
   "source": [
    "def train_model(model, optimizer, train_loader):\n",
    "    model.train()\n",
    "    total_loss = total_examples = 0\n",
    "    for head_index, rel_type, tail_index in train_loader:\n",
    "        optimizer.zero_grad()\n",
    "        loss = model.loss(head_index, rel_type, tail_index)\n",
    "        loss.backward()\n",
    "        optimizer.step()\n",
    "        #scale on specific number of elements in batch\n",
    "        total_loss += float(loss) * head_index.numel()\n",
    "        total_examples += head_index.numel()\n",
    "    return total_loss / total_examples\n",
    "\n",
    "\n",
    "@torch.no_grad()\n",
    "def test_model(model, config, test_loader):\n",
    "    model.eval()\n",
    "    total_loss = total_examples = 0\n",
    "    for head_index, rel_type, tail_index in test_loader:\n",
    "        loss = model.loss(head_index, rel_type, tail_index)\n",
    "        total_loss += float(loss) * head_index.numel()\n",
    "        total_examples += head_index.numel()\n",
    "\n",
    "    mean_rank, mrr, hits_at_k = model.test(\n",
    "        head_index=head_index,\n",
    "        rel_type=rel_type,\n",
    "        tail_index=tail_index,\n",
    "        batch_size=config.batch_size,\n",
    "        k=config.k,\n",
    "    )\n",
    "\n",
    "    return total_loss / total_examples, mean_rank, mrr, hits_at_k"
   ]
  },
  {
   "cell_type": "code",
   "execution_count": 5,
   "metadata": {},
   "outputs": [],
   "source": [
    "def main(config=None, verbose=False):\n",
    "    with wandb.init(\n",
    "        project=f\"ScoreMatchingDiffKG_Embedding\",\n",
    "        name=f\"{dataset_name}_{embedding_model_name}_embedding_model {datetime.now().strftime('%Y-%m-%d %H:%M:%S')}\",\n",
    "        config=config if config is not None else {}\n",
    "    ):\n",
    "        config = wandb.config\n",
    "        model, optimizer, train_loader, val_loader, test_loader = build_model(config)\n",
    "        wandb.watch(model)\n",
    "        for epoch in range(config.epochs):\n",
    "            loss = train_model(model, optimizer, train_loader)\n",
    "            if verbose: print(f'Epoch: {epoch:03d}, Train Loss: {loss:.4f}')\n",
    "            train_metrics ={\n",
    "                \"train_epoch\": epoch,\n",
    "                \"train_loss\": loss\n",
    "            }\n",
    "            if epoch % 25 == 0 and epoch > 0:\n",
    "                loss, mean_rank, mrr, hits_at_10 = test_model(model, config, val_loader)\n",
    "                if verbose: print(f'Val Mean Rank: {mean_rank:.2f}, Val Mean Reciprocal Rank: {mrr:.2f}, Val Hits@10: {hits_at_10:.4f}')\n",
    "                val_metrics ={\n",
    "                    \"val_loss\": loss,\n",
    "                    \"val_mean_rank\": mean_rank,\n",
    "                    \"val_mrr\": mrr,\n",
    "                    \"val_hits_at_10\": hits_at_10\n",
    "                }\n",
    "            #log to wandb\n",
    "            wandb.log({**train_metrics, **val_metrics} if 'val_metrics' in locals() else {**train_metrics})\n",
    "\n",
    "        #once everything is finished, test model\n",
    "        loss, mean_rank, mrr, hits_at_10 = test_model(model, config, test_loader)\n",
    "        if verbose: print(f'Test Mean Rank: {mean_rank:.2f}, Test Mean Reciprocal Rank: {mrr:.2f}, Test Hits@10: {hits_at_10:.4f}')\n",
    "        test_metrics ={\n",
    "                    \"test_loss\": loss,\n",
    "                    \"test_mean_rank\": mean_rank,\n",
    "                    \"test_mrr\": mrr,\n",
    "                    \"test_hits_at_10\": hits_at_10\n",
    "                }\n",
    "        wandb.log({**test_metrics})\n",
    "\n",
    "        # Save the trained model\n",
    "        path = osp.join(os.getcwd(), f'{dataset_name}_{embedding_model_name}_embedding_model_weights.pth')\n",
    "        torch.save(model.state_dict(), path)\n",
    "\n",
    "        # Fetch a batch from train_loader\n",
    "        for batch in train_loader:\n",
    "            # Assuming batch contains head_index, rel_type, tail_index, and possibly other data\n",
    "            head_index, rel_type, tail_index = batch\n",
    "            break  # Only need one batch for this purpose\n",
    "\n",
    "        # Use the fetched batch to provide dummy inputs for the export\n",
    "        # Ensure these variables are moved to the same device as model if necessary\n",
    "        torch.onnx.export(\n",
    "            model,\n",
    "            (head_index, rel_type, tail_index),  # Use actual data as dummy inputs\n",
    "            f'{dataset_name}_{embedding_model_name}_embedding_model_weights.onnx',\n",
    "            opset_version=11,\n",
    "            do_constant_folding=True,\n",
    "            input_names=[\"head_index\", \"rel_type\", \"tail_index\"],  # Adjust input names as needed\n",
    "            dynamic_axes={\n",
    "                \"head_index\": {0: \"batch_size\"}, \n",
    "                \"rel_type\": {0: \"batch_size\"}, \n",
    "                \"tail_index\": {0: \"batch_size\"}\n",
    "            }\n",
    "        )\n",
    "        wandb.save(f'{dataset_name}_{embedding_model_name}_embedding_model_weights.onnx')\n",
    "\n",
    "        return model\n",
    "    "
   ]
  },
  {
   "cell_type": "code",
   "execution_count": 6,
   "metadata": {},
   "outputs": [],
   "source": [
    "run_sweep = True\n",
    "if run_sweep:\n",
    "    with open('sweep_config.yaml', 'r') as file:\n",
    "        sweep_config = yaml.safe_load(file)\n",
    "else:\n",
    "    config = {\n",
    "            \"epochs\": 500,\n",
    "            \"batch_size\": 1000,\n",
    "            \"lr\": 0.001,\n",
    "            \"weight_decay\": 1e-6,\n",
    "            \"k\": 10, #used for top-k evaluation\n",
    "            \"hidden_channels\": 50\n",
    "        }"
   ]
  },
  {
   "cell_type": "code",
   "execution_count": 7,
   "metadata": {},
   "outputs": [
    {
     "name": "stderr",
     "output_type": "stream",
     "text": [
      "\u001b[34m\u001b[1mwandb\u001b[0m: \u001b[33mWARNING\u001b[0m Malformed sweep config detected! This may cause your sweep to behave in unexpected ways.\n",
      "\u001b[34m\u001b[1mwandb\u001b[0m: \u001b[33mWARNING\u001b[0m To avoid this, please fix the sweep config schema violations below:\n",
      "\u001b[34m\u001b[1mwandb\u001b[0m: \u001b[33mWARNING\u001b[0m   Violation 1. lr uses log_uniform, where min/max specify base-e exponents. Use log_uniform_values to specify limit values.\n"
     ]
    },
    {
     "name": "stdout",
     "output_type": "stream",
     "text": [
      "Create sweep with ID: wfe3hq9n\n",
      "Sweep URL: https://wandb.ai/bthill1/ScoreMatchingDiffKG_Embedding_Sweep/sweeps/wfe3hq9n\n"
     ]
    },
    {
     "name": "stderr",
     "output_type": "stream",
     "text": [
      "\u001b[34m\u001b[1mwandb\u001b[0m: Agent Starting Run: 3crvj5js with config:\n",
      "\u001b[34m\u001b[1mwandb\u001b[0m: \tbatch_size: 500\n",
      "\u001b[34m\u001b[1mwandb\u001b[0m: \tepochs: 1000\n",
      "\u001b[34m\u001b[1mwandb\u001b[0m: \thidden_channels: 100\n",
      "\u001b[34m\u001b[1mwandb\u001b[0m: \tk: 10\n",
      "\u001b[34m\u001b[1mwandb\u001b[0m: \tlr: 1.003668058140734\n",
      "\u001b[34m\u001b[1mwandb\u001b[0m: \tweight_decay: 1e-06\n",
      "\u001b[34m\u001b[1mwandb\u001b[0m: \u001b[33mWARNING\u001b[0m Ignored wandb.init() arg project when running a sweep.\n"
     ]
    },
    {
     "data": {
      "text/html": [
       "wandb version 0.16.4 is available!  To upgrade, please run:\n",
       " $ pip install wandb --upgrade"
      ],
      "text/plain": [
       "<IPython.core.display.HTML object>"
      ]
     },
     "metadata": {},
     "output_type": "display_data"
    },
    {
     "data": {
      "text/html": [
       "Tracking run with wandb version 0.16.3"
      ],
      "text/plain": [
       "<IPython.core.display.HTML object>"
      ]
     },
     "metadata": {},
     "output_type": "display_data"
    },
    {
     "data": {
      "text/html": [
       "Run data is saved locally in <code>/home/blaineh2/ScoreMatchingDiffKG/embedding_model/wandb/run-20240316_023335-3crvj5js</code>"
      ],
      "text/plain": [
       "<IPython.core.display.HTML object>"
      ]
     },
     "metadata": {},
     "output_type": "display_data"
    },
    {
     "data": {
      "text/html": [
       "Syncing run <strong><a href='https://wandb.ai/bthill1/ScoreMatchingDiffKG_Embedding_Sweep/runs/3crvj5js' target=\"_blank\">FB15k_237_RotatE_embedding_model 2024-03-16 02:33:34</a></strong> to <a href='https://wandb.ai/bthill1/ScoreMatchingDiffKG_Embedding_Sweep' target=\"_blank\">Weights & Biases</a> (<a href='https://wandb.me/run' target=\"_blank\">docs</a>)<br/>Sweep page: <a href='https://wandb.ai/bthill1/ScoreMatchingDiffKG_Embedding_Sweep/sweeps/wfe3hq9n' target=\"_blank\">https://wandb.ai/bthill1/ScoreMatchingDiffKG_Embedding_Sweep/sweeps/wfe3hq9n</a>"
      ],
      "text/plain": [
       "<IPython.core.display.HTML object>"
      ]
     },
     "metadata": {},
     "output_type": "display_data"
    },
    {
     "data": {
      "text/html": [
       " View project at <a href='https://wandb.ai/bthill1/ScoreMatchingDiffKG_Embedding_Sweep' target=\"_blank\">https://wandb.ai/bthill1/ScoreMatchingDiffKG_Embedding_Sweep</a>"
      ],
      "text/plain": [
       "<IPython.core.display.HTML object>"
      ]
     },
     "metadata": {},
     "output_type": "display_data"
    },
    {
     "data": {
      "text/html": [
       " View sweep at <a href='https://wandb.ai/bthill1/ScoreMatchingDiffKG_Embedding_Sweep/sweeps/wfe3hq9n' target=\"_blank\">https://wandb.ai/bthill1/ScoreMatchingDiffKG_Embedding_Sweep/sweeps/wfe3hq9n</a>"
      ],
      "text/plain": [
       "<IPython.core.display.HTML object>"
      ]
     },
     "metadata": {},
     "output_type": "display_data"
    },
    {
     "data": {
      "text/html": [
       " View run at <a href='https://wandb.ai/bthill1/ScoreMatchingDiffKG_Embedding_Sweep/runs/3crvj5js' target=\"_blank\">https://wandb.ai/bthill1/ScoreMatchingDiffKG_Embedding_Sweep/runs/3crvj5js</a>"
      ],
      "text/plain": [
       "<IPython.core.display.HTML object>"
      ]
     },
     "metadata": {},
     "output_type": "display_data"
    },
    {
     "name": "stderr",
     "output_type": "stream",
     "text": [
      "ic| config: None\n",
      "ic| wandb.config: {'batch_size': 500, 'epochs': 1000, 'hidden_channels': 100, 'k': 10, 'lr': 1.003668058140734, 'weight_decay': 1e-06}\n"
     ]
    }
   ],
   "source": [
    "if run_sweep:\n",
    "    \n",
    "    with open('sweep_config.yaml', 'r') as file:\n",
    "        sweep_config = yaml.safe_load(file)\n",
    "\n",
    "    sweep_id = wandb.sweep(project=f\"ScoreMatchingDiffKG_Embedding_Sweep\",sweep=sweep_config)\n",
    "    \n",
    "    wandb.agent(sweep_id, function=main)\n",
    "else:\n",
    "    model = main(config, verbose=True)"
   ]
  }
 ],
 "metadata": {
  "kernelspec": {
   "display_name": "ScoreMatchingDiffKG",
   "language": "python",
   "name": "python3"
  },
  "language_info": {
   "codemirror_mode": {
    "name": "ipython",
    "version": 3
   },
   "file_extension": ".py",
   "mimetype": "text/x-python",
   "name": "python",
   "nbconvert_exporter": "python",
   "pygments_lexer": "ipython3",
   "version": "3.9.18"
  }
 },
 "nbformat": 4,
 "nbformat_minor": 2
}
