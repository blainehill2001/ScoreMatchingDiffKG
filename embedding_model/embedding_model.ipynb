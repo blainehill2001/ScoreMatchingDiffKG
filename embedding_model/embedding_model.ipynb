{
 "cells": [
  {
   "cell_type": "markdown",
   "metadata": {},
   "source": [
    "#### Author: Blaine Hill\n",
    "\n",
    "In this notebook, we program out how to embed a KG such as FB15k_237 using RotatE. The weights are saved under embedding_model_weights.pth "
   ]
  },
  {
   "cell_type": "code",
   "execution_count": 1,
   "metadata": {},
   "outputs": [
    {
     "name": "stderr",
     "output_type": "stream",
     "text": [
      "\u001b[34m\u001b[1mwandb\u001b[0m: Currently logged in as: \u001b[33mbthill1\u001b[0m (\u001b[33muiuc_idealab_2024\u001b[0m). Use \u001b[1m`wandb login --relogin`\u001b[0m to force relogin\n",
      "/home/blaineh2/anaconda3/envs/ScoreMatchingDiffKG/lib/python3.11/site-packages/torch/cuda/__init__.py:118: UserWarning: CUDA initialization: The NVIDIA driver on your system is too old (found version 11040). Please update your GPU driver by downloading and installing a new version from the URL: http://www.nvidia.com/Download/index.aspx Alternatively, go to: https://pytorch.org to install a PyTorch version that has been compiled with your version of the CUDA driver. (Triggered internally at ../c10/cuda/CUDAFunctions.cpp:108.)\n",
      "  return torch._C._cuda_getDeviceCount() > 0\n"
     ]
    }
   ],
   "source": [
    "import os\n",
    "\n",
    "os.environ[\"WANDB_NOTEBOOK_NAME\"] = \"embedding_model.ipynb\"\n",
    "\n",
    "import wandb\n",
    "\n",
    "wandb.login()\n",
    "# wandb.login(relogin=True)\n",
    "\n",
    "import torch\n",
    "import torch.optim as optim\n",
    "\n",
    "import sys\n",
    "import os.path as osp\n",
    "from ipykernel import get_connection_file\n",
    "\n",
    "from datetime import datetime\n",
    "import yaml\n",
    "from icecream import ic\n",
    "\n",
    "notebook_path = osp.abspath(\n",
    "    osp.join(os.getcwd(), osp.basename(get_connection_file()))\n",
    ")\n",
    "parent_dir = osp.dirname(osp.dirname(notebook_path))\n",
    "sys.path.append(parent_dir)\n",
    "\n",
    "from utils.utils import load_dataset, get_model_class\n",
    "from utils.tqdm_utils import silence_tqdm\n",
    "\n",
    "device = \"cuda\" if torch.cuda.is_available() else \"cpu\""
   ]
  },
  {
   "cell_type": "markdown",
   "metadata": {},
   "source": [
    "Here we decide whether to train the model on specific hyperparameters stored in config or to run a Weights and Biases sweep to locate the best hyperparameters as defined in `sweep_config.yaml`\n",
    "\n",
    "Set `run_sweep=True` to run the sweep and `False` to train the model on the defined config variable."
   ]
  },
  {
   "cell_type": "code",
   "execution_count": 2,
   "metadata": {},
   "outputs": [],
   "source": [
    "run_sweep = True\n",
    "if run_sweep:\n",
    "    with open(\"sweep_config.yaml\", \"r\") as file:\n",
    "        sweep_config = yaml.safe_load(file)\n",
    "else:\n",
    "    config = {\n",
    "        \"dataset_name\": \"FB15k_237\",\n",
    "        \"embedding_model_name\": \"RotatE\",\n",
    "        \"epochs\": 2,\n",
    "        \"batch_size\": 64,\n",
    "        \"lr\": 0.001,\n",
    "        \"weight_decay\": 1e-6,\n",
    "        \"k\": 10,  # used for top-k evaluation\n",
    "        \"hidden_channels\": 50,\n",
    "        \"verbose\": True,\n",
    "    }"
   ]
  },
  {
   "cell_type": "code",
   "execution_count": 3,
   "metadata": {},
   "outputs": [],
   "source": [
    "def build_model(config):\n",
    "    train_data, val_data, test_data, data_path = load_dataset(\n",
    "        config[\"dataset_name\"], parent_dir=parent_dir, device=device\n",
    "    )\n",
    "    model_class = get_model_class(config[\"embedding_model_name\"])\n",
    "    model = model_class(\n",
    "        num_nodes=train_data.num_nodes,\n",
    "        num_relations=train_data.num_edge_types,\n",
    "        hidden_channels=config.hidden_channels,\n",
    "    ).to(device)\n",
    "    train_loader = model.loader(\n",
    "        head_index=train_data.edge_index[0],\n",
    "        rel_type=train_data.edge_type,\n",
    "        tail_index=train_data.edge_index[1],\n",
    "        batch_size=config.batch_size,\n",
    "        shuffle=True,\n",
    "    )\n",
    "    val_loader = model.loader(\n",
    "        head_index=val_data.edge_index[0],\n",
    "        rel_type=val_data.edge_type,\n",
    "        tail_index=val_data.edge_index[1],\n",
    "        batch_size=config.batch_size,\n",
    "        shuffle=True,\n",
    "    )\n",
    "    test_loader = model.loader(\n",
    "        head_index=test_data.edge_index[0],\n",
    "        rel_type=test_data.edge_type,\n",
    "        tail_index=test_data.edge_index[1],\n",
    "        batch_size=config.batch_size,\n",
    "        shuffle=True,\n",
    "    )\n",
    "\n",
    "    optimizer = optim.Adagrad(\n",
    "        model.parameters(), lr=config.lr, weight_decay=config.weight_decay\n",
    "    )\n",
    "\n",
    "    model.train_data = train_data\n",
    "    model.val_data = val_data\n",
    "    model.test_data = test_data\n",
    "    model.train_loader = train_loader\n",
    "    model.val_loader = val_loader\n",
    "    model.test_loader = test_loader\n",
    "    model.optimizer = optimizer\n",
    "    model.config = config\n",
    "\n",
    "    return model"
   ]
  },
  {
   "cell_type": "code",
   "execution_count": 4,
   "metadata": {},
   "outputs": [],
   "source": [
    "def corrupt_triples(head_index, rel_type, tail_index, num_entities, num_neg=1):\n",
    "    n = head_index.size(0)\n",
    "    neg_head_index = (\n",
    "        head_index.expand(num_neg, n).transpose(0, 1).contiguous().view(-1)\n",
    "    )\n",
    "    neg_tail_index = (\n",
    "        tail_index.expand(num_neg, n).transpose(0, 1).contiguous().view(-1)\n",
    "    )\n",
    "    neg_rel_type = (\n",
    "        rel_type.expand(num_neg, n).transpose(0, 1).contiguous().view(-1)\n",
    "    )\n",
    "\n",
    "    # Randomly corrupt either head or tail.\n",
    "    selector = torch.rand(n * num_neg) < 0.5\n",
    "    neg_head_index[selector] = torch.randint(\n",
    "        num_entities, size=neg_head_index[selector].size(), dtype=torch.long\n",
    "    )\n",
    "    neg_tail_index[~selector] = torch.randint(\n",
    "        num_entities, size=neg_tail_index[~selector].size(), dtype=torch.long\n",
    "    )\n",
    "\n",
    "    return neg_head_index, neg_rel_type, neg_tail_index\n",
    "\n",
    "\n",
    "def train_model(model):\n",
    "    model.train()\n",
    "    total_loss = total_examples = 0\n",
    "    for head_index, rel_type, tail_index in model.train_loader:\n",
    "        model.optimizer.zero_grad()\n",
    "\n",
    "        # Negative sampling.\n",
    "        neg_head_index, neg_rel_type, neg_tail_index = corrupt_triples(\n",
    "            head_index,\n",
    "            rel_type,\n",
    "            tail_index,\n",
    "            num_entities=model.train_data.num_nodes,\n",
    "            num_neg=1,\n",
    "        )\n",
    "\n",
    "        # Positive loss.\n",
    "        loss = model.loss(head_index, rel_type, tail_index)\n",
    "\n",
    "        # Negative loss.\n",
    "        loss += model.loss(neg_head_index, neg_rel_type, neg_tail_index)\n",
    "\n",
    "        loss.backward()\n",
    "        model.optimizer.step()\n",
    "        # scale on specific number of elements in batch\n",
    "        total_loss += float(loss) * head_index.size(0)\n",
    "        total_examples += 2 * head_index.numel()\n",
    "    return total_loss / total_examples\n",
    "\n",
    "\n",
    "@silence_tqdm\n",
    "@torch.no_grad()\n",
    "def test_model(model, val=False):\n",
    "    model.eval()\n",
    "    total_loss = total_examples = 0\n",
    "    loader = model.val_loader if val else model.test_loader\n",
    "    for head_index, rel_type, tail_index in loader:\n",
    "        loss = model.loss(head_index, rel_type, tail_index)\n",
    "        total_loss += float(loss) * head_index.numel()\n",
    "        total_examples += head_index.numel()\n",
    "\n",
    "    mean_rank, mrr, hits_at_k = model.test(\n",
    "        head_index=head_index,\n",
    "        rel_type=rel_type,\n",
    "        tail_index=tail_index,\n",
    "        batch_size=model.config.batch_size,\n",
    "        k=model.config.k,\n",
    "    )\n",
    "\n",
    "    performance_metrics = {\n",
    "        \"loss\": total_loss / total_examples,\n",
    "        \"mean_rank\": mean_rank,\n",
    "        \"mrr\": mrr,\n",
    "        \"hits_at_k\": hits_at_k,\n",
    "    }\n",
    "\n",
    "    return performance_metrics"
   ]
  },
  {
   "cell_type": "code",
   "execution_count": 5,
   "metadata": {},
   "outputs": [],
   "source": [
    "def main(config=None):\n",
    "    # intialize wandb\n",
    "    with wandb.init(\n",
    "        project=f\"ScoreMatchingDiffKG_Embedding\",\n",
    "        name=f\"run_{datetime.now().strftime('%Y-%m-%d %H:%M:%S')}\",  # Use a temporary name\n",
    "        config=config if config is not None else {},\n",
    "    ):\n",
    "        config = wandb.config\n",
    "\n",
    "        # Use config values after they are set\n",
    "        wandb.run.name = f'{config[\"dataset_name\"]}_{config[\"embedding_model_name\"]}_embedding_model {datetime.now().strftime(\"%Y-%m-%d %H:%M:%S\")}'\n",
    "\n",
    "        model = build_model(config)\n",
    "        wandb.watch(model)\n",
    "\n",
    "        best_val_loss = float(\"inf\")\n",
    "        best_model_state = None\n",
    "\n",
    "        # train model\n",
    "        for epoch in range(config.epochs):\n",
    "            loss = train_model(model)\n",
    "            if config[\"verbose\"]:\n",
    "                print(f\"Epoch: {epoch:03d}, Train Loss: {loss:.4f}\")\n",
    "            train_metrics = {\"train_epoch\": epoch, \"train_loss\": loss}\n",
    "            # test model on validation data\n",
    "            if epoch % 10 == 0 and epoch > 0:\n",
    "                performance_metrics = test_model(model, val=True)\n",
    "                if config[\"verbose\"]:\n",
    "                    print(\n",
    "                        f'Val Mean Rank: {performance_metrics[\"mean_rank\"]:.2f}, Val Mean Reciprocal Rank: {performance_metrics[\"mrr\"]:.2f}, Val Hits@k: {performance_metrics[\"hits_at_k\"]:.4f}'\n",
    "                    )\n",
    "                val_metrics = {\n",
    "                    \"val_loss\": performance_metrics[\"loss\"],\n",
    "                    \"val_mean_rank\": performance_metrics[\"mean_rank\"],\n",
    "                    \"val_mrr\": performance_metrics[\"mrr\"],\n",
    "                    \"val_hits_at_10\": performance_metrics[\"hits_at_k\"],\n",
    "                }\n",
    "\n",
    "                if performance_metrics[\"loss\"] < best_val_loss:\n",
    "                    best_val_loss = performance_metrics[\"loss\"]\n",
    "                    best_model_state = model.state_dict()\n",
    "\n",
    "            # log to wandb\n",
    "            wandb.log(\n",
    "                {**train_metrics, **val_metrics}\n",
    "                if \"val_metrics\" in locals()\n",
    "                else {**train_metrics}\n",
    "            )\n",
    "\n",
    "        # Save the best model after all epochs\n",
    "        if best_model_state:\n",
    "\n",
    "            model.load_state_dict(best_model_state)\n",
    "            # once everything is finished, test model\n",
    "            performance_metrics = test_model(model)\n",
    "            if config[\"verbose\"]:\n",
    "                print(\n",
    "                    f'Test Mean Rank: {performance_metrics[\"mean_rank\"]:.2f}, Test Mean Reciprocal Rank: {performance_metrics[\"mrr\"]:.2f}, Test Hits@k: {performance_metrics[\"hits_at_k\"]:.4f}'\n",
    "                )\n",
    "            test_metrics = {\n",
    "                \"test_loss\": performance_metrics[\"loss\"],\n",
    "                \"test_mean_rank\": performance_metrics[\"mean_rank\"],\n",
    "                \"test_mrr\": performance_metrics[\"mrr\"],\n",
    "                \"test_hits_at_k\": performance_metrics[\"hits_at_k\"],\n",
    "            }\n",
    "            wandb.log({**test_metrics})\n",
    "\n",
    "            # Save the trained model\n",
    "            path = osp.join(\n",
    "                os.getcwd(),\n",
    "                f'{config[\"dataset_name\"]}_{config[\"embedding_model_name\"]}_embedding_model_weights.pth',\n",
    "            )\n",
    "            model_state_dict = model.state_dict()\n",
    "            model_state_dict[\"num_nodes\"] = model.train_data.num_nodes\n",
    "            model_state_dict[\"num_relations\"] = model.train_data.num_edge_types\n",
    "            model_state_dict[\"hidden_channels\"] = model.config[\n",
    "                \"hidden_channels\"\n",
    "            ]\n",
    "            model_state_dict[\"dataset_name\"] = config[\"dataset_name\"]\n",
    "            model_state_dict[\"embedding_model_name\"] = config[\n",
    "                \"embedding_model_name\"\n",
    "            ]\n",
    "\n",
    "            # Save the model as pth\n",
    "            torch.save(model_state_dict, path)\n",
    "\n",
    "            # Fetch a batch from train_loader\n",
    "            for batch in model.train_loader:\n",
    "                # Assuming batch contains head_index, rel_type, tail_index, and possibly other data\n",
    "                head_index, rel_type, tail_index = batch\n",
    "                break  # Only need one batch for this purpose\n",
    "            head_index, rel_type, tail_index = (\n",
    "                head_index.to(device),\n",
    "                rel_type.to(device),\n",
    "                tail_index.to(device),\n",
    "            )\n",
    "\n",
    "            # Use the fetched batch to provide dummy inputs for the export\n",
    "            # Ensure these variables are moved to the same device as model if necessary\n",
    "            torch.onnx.export(\n",
    "                model,\n",
    "                (\n",
    "                    head_index,\n",
    "                    rel_type,\n",
    "                    tail_index,\n",
    "                ),  # Use actual data as dummy inputs\n",
    "                f'{config[\"dataset_name\"]}_{config[\"embedding_model_name\"]}_embedding_model_weights.onnx',\n",
    "                opset_version=11,\n",
    "                do_constant_folding=True,\n",
    "                input_names=[\n",
    "                    \"head_index\",\n",
    "                    \"rel_type\",\n",
    "                    \"tail_index\",\n",
    "                ],\n",
    "                dynamic_axes={\n",
    "                    \"head_index\": {0: \"batch_size\"},\n",
    "                    \"rel_type\": {0: \"batch_size\"},\n",
    "                    \"tail_index\": {0: \"batch_size\"},\n",
    "                },\n",
    "            )\n",
    "            wandb.save(\n",
    "                f'{config[\"dataset_name\"]}_{config[\"embedding_model_name\"]}_embedding_model_weights.onnx'\n",
    "            )\n",
    "\n",
    "        return model"
   ]
  },
  {
   "cell_type": "code",
   "execution_count": 6,
   "metadata": {},
   "outputs": [
    {
     "data": {
      "text/html": [
       "Tracking run with wandb version 0.16.6"
      ],
      "text/plain": [
       "<IPython.core.display.HTML object>"
      ]
     },
     "metadata": {},
     "output_type": "display_data"
    },
    {
     "data": {
      "text/html": [
       "Run data is saved locally in <code>/home/blaineh2/ScoreMatchingDiffKG/embedding_model/wandb/run-20240502_004605-kknvl16d</code>"
      ],
      "text/plain": [
       "<IPython.core.display.HTML object>"
      ]
     },
     "metadata": {},
     "output_type": "display_data"
    },
    {
     "data": {
      "text/html": [
       "Syncing run <strong><a href='https://wandb.ai/uiuc_idealab_2024/ScoreMatchingDiffKG_Embedding/runs/kknvl16d' target=\"_blank\">run_2024-05-02 00:46:05</a></strong> to <a href='https://wandb.ai/uiuc_idealab_2024/ScoreMatchingDiffKG_Embedding' target=\"_blank\">Weights & Biases</a> (<a href='https://wandb.me/run' target=\"_blank\">docs</a>)<br/>"
      ],
      "text/plain": [
       "<IPython.core.display.HTML object>"
      ]
     },
     "metadata": {},
     "output_type": "display_data"
    },
    {
     "data": {
      "text/html": [
       " View project at <a href='https://wandb.ai/uiuc_idealab_2024/ScoreMatchingDiffKG_Embedding' target=\"_blank\">https://wandb.ai/uiuc_idealab_2024/ScoreMatchingDiffKG_Embedding</a>"
      ],
      "text/plain": [
       "<IPython.core.display.HTML object>"
      ]
     },
     "metadata": {},
     "output_type": "display_data"
    },
    {
     "data": {
      "text/html": [
       " View run at <a href='https://wandb.ai/uiuc_idealab_2024/ScoreMatchingDiffKG_Embedding/runs/kknvl16d' target=\"_blank\">https://wandb.ai/uiuc_idealab_2024/ScoreMatchingDiffKG_Embedding/runs/kknvl16d</a>"
      ],
      "text/plain": [
       "<IPython.core.display.HTML object>"
      ]
     },
     "metadata": {},
     "output_type": "display_data"
    },
    {
     "name": "stdout",
     "output_type": "stream",
     "text": [
      "Epoch: 000, Train Loss: 1.0000\n",
      "Epoch: 001, Train Loss: 1.0000\n"
     ]
    },
    {
     "data": {
      "text/html": [
       "<style>\n",
       "    table.wandb td:nth-child(1) { padding: 0 10px; text-align: left ; width: auto;} td:nth-child(2) {text-align: left ; width: 100%}\n",
       "    .wandb-row { display: flex; flex-direction: row; flex-wrap: wrap; justify-content: flex-start; width: 100% }\n",
       "    .wandb-col { display: flex; flex-direction: column; flex-basis: 100%; flex: 1; padding: 10px; }\n",
       "    </style>\n",
       "<div class=\"wandb-row\"><div class=\"wandb-col\"><h3>Run history:</h3><br/><table class=\"wandb\"><tr><td>train_epoch</td><td>▁█</td></tr><tr><td>train_loss</td><td>▁▁</td></tr></table><br/></div><div class=\"wandb-col\"><h3>Run summary:</h3><br/><table class=\"wandb\"><tr><td>train_epoch</td><td>1</td></tr><tr><td>train_loss</td><td>1.0</td></tr></table><br/></div></div>"
      ],
      "text/plain": [
       "<IPython.core.display.HTML object>"
      ]
     },
     "metadata": {},
     "output_type": "display_data"
    },
    {
     "data": {
      "text/html": [
       " View run <strong style=\"color:#cdcd00\">run_2024-05-02 00:46:05</strong> at: <a href='https://wandb.ai/uiuc_idealab_2024/ScoreMatchingDiffKG_Embedding/runs/kknvl16d' target=\"_blank\">https://wandb.ai/uiuc_idealab_2024/ScoreMatchingDiffKG_Embedding/runs/kknvl16d</a><br/> View project at: <a href='https://wandb.ai/uiuc_idealab_2024/ScoreMatchingDiffKG_Embedding' target=\"_blank\">https://wandb.ai/uiuc_idealab_2024/ScoreMatchingDiffKG_Embedding</a><br/>Synced 6 W&B file(s), 0 media file(s), 2 artifact file(s) and 0 other file(s)"
      ],
      "text/plain": [
       "<IPython.core.display.HTML object>"
      ]
     },
     "metadata": {},
     "output_type": "display_data"
    },
    {
     "data": {
      "text/html": [
       "Find logs at: <code>./wandb/run-20240502_004605-kknvl16d/logs</code>"
      ],
      "text/plain": [
       "<IPython.core.display.HTML object>"
      ]
     },
     "metadata": {},
     "output_type": "display_data"
    }
   ],
   "source": [
    "if run_sweep:\n",
    "\n",
    "    with open(\"sweep_config.yaml\", \"r\") as file:\n",
    "        sweep_config = yaml.safe_load(file)\n",
    "\n",
    "    sweep_id = wandb.sweep(\n",
    "        project=f\"ScoreMatchingDiffKG_Embedding_Sweep\", sweep=sweep_config\n",
    "    )\n",
    "\n",
    "    wandb.agent(sweep_id, function=main)\n",
    "else:\n",
    "    model = main(config)"
   ]
  }
 ],
 "metadata": {
  "kernelspec": {
   "display_name": "Python 3 (ipykernel)",
   "language": "python",
   "name": "python3"
  },
  "language_info": {
   "codemirror_mode": {
    "name": "ipython",
    "version": 3
   },
   "file_extension": ".py",
   "mimetype": "text/x-python",
   "name": "python",
   "nbconvert_exporter": "python",
   "pygments_lexer": "ipython3",
   "version": "3.11.9"
  }
 },
 "nbformat": 4,
 "nbformat_minor": 4
}
