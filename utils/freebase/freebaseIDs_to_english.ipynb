{
 "cells": [
  {
   "cell_type": "code",
   "execution_count": 5,
   "metadata": {},
   "outputs": [
    {
     "data": {
      "text/plain": [
       "['Q15978631', 'Q5']"
      ]
     },
     "execution_count": 5,
     "metadata": {},
     "output_type": "execute_result"
    }
   ],
   "source": [
    "from converter import EntityConverter\n",
    "from icecream import ic\n",
    "\n",
    "entity_converter = EntityConverter(\"https://query.wikidata.org/sparql\")\n",
    "entity_converter.get_wikidata_id(\"/m/0dgw9r\")  # 'Q15978631'\n",
    "entity_converter.get_freebase_id(\"Q42\")  # '/m/0282x'\n",
    "entity_converter.get_wikidata_id(\"/m/0dgw9r\", limit=3)  # ['Q15978631', 'Q5']"
   ]
  },
  {
   "cell_type": "code",
   "execution_count": 7,
   "metadata": {},
   "outputs": [
    {
     "name": "stderr",
     "output_type": "stream",
     "text": [
      "ic| item.label: m'Homo sapiens'\n",
      "ic| dir(item): ['$labels',\n",
      "                '__abstractmethods__',\n",
      "                '__class__',\n",
      "                '__class_getitem__',\n",
      "                '__contains__',\n",
      "                '__delattr__',\n",
      "                '__dict__',\n",
      "                '__dir__',\n",
      "                '__doc__',\n",
      "                '__eq__',\n",
      "                '__format__',\n",
      "                '__ge__',\n",
      "                '__getattribute__',\n",
      "                '__getitem__',\n",
      "                '__gt__',\n",
      "                '__hash__',\n",
      "                '__init__',\n",
      "                '__init_subclass__',\n",
      "                '__iter__',\n",
      "                '__le__',\n",
      "                '__len__',\n",
      "                '__lt__',\n",
      "                '__module__',\n",
      "                '__ne__',\n",
      "                '__new__',\n",
      "                '__reduce__',\n",
      "                '__reduce_ex__',\n",
      "                '__repr__',\n",
      "                '__reversed__',\n",
      "                '__setattr__',\n",
      "                '__sizeof__',\n",
      "                '__slots__',\n",
      "                '__str__',\n",
      "                '__subclasshook__',\n",
      "                '__weakref__',\n",
      "                '_abc_impl',\n",
      "                'attributes',\n",
      "                'client',\n",
      "                'data',\n",
      "                'description',\n",
      "                'get',\n",
      "                'getlist',\n",
      "                'id',\n",
      "                'items',\n",
      "                'iterlists',\n",
      "                'iterlistvalues',\n",
      "                'keys',\n",
      "                'label',\n",
      "                'lists',\n",
      "                'listvalues',\n",
      "                'load',\n",
      "                'state',\n",
      "                'type',\n",
      "                'values']\n"
     ]
    },
    {
     "name": "stdout",
     "output_type": "stream",
     "text": [
      "English label: Homo sapiens\n"
     ]
    }
   ],
   "source": [
    "from wikidata.client import Client\n",
    "\n",
    "# Create a Wikidata client\n",
    "client = Client()\n",
    "\n",
    "# Specify the Wikidata ID\n",
    "wikidata_id = \"Q15978631\"\n",
    "\n",
    "# Get the item data\n",
    "item = client.get(wikidata_id)\n",
    "ic(item.label)\n",
    "ic(dir(item))\n",
    "\n",
    "\n",
    "# Check if the item has an English label\n",
    "if \"labels\" in item.data:\n",
    "    # Access the English label using the 'en' key\n",
    "    english_label = item.data[\"labels\"][\"en\"][\"value\"]\n",
    "    print(f\"English label: {english_label}\")\n",
    "else:\n",
    "    print(f\"No English label found for Wikidata ID: {wikidata_id}\")"
   ]
  }
 ],
 "metadata": {
  "kernelspec": {
   "display_name": "ScoreMatchingDiffKG",
   "language": "python",
   "name": "python3"
  },
  "language_info": {
   "codemirror_mode": {
    "name": "ipython",
    "version": 3
   },
   "file_extension": ".py",
   "mimetype": "text/x-python",
   "name": "python",
   "nbconvert_exporter": "python",
   "pygments_lexer": "ipython3",
   "version": "3.9.18"
  }
 },
 "nbformat": 4,
 "nbformat_minor": 2
}
